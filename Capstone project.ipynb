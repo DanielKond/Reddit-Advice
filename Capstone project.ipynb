{
 "cells": [
  {
   "cell_type": "markdown",
   "metadata": {},
   "source": [
    "ABSTRACT\n",
    "\n",
    "In this notebook, I attempt to explore the responses redditors have to different relationship issues: in particular to those of men vs women, cheating vs abuse, and the subjectivity and sentiment therein. The purpose of this is (1) to determine how people respond based on their implicit biases, (2) how redditors affect the culture on their website and (3) to provide recommendations to the administration on how to limit unwanted effects.\n",
    "\n",
    "(1) Despite popular belief, no particular differences were found between comments in response to men or women. While this does not mean individuals cannot be biased, it appears that those biases cancel one another out.\n",
    "\n",
    "(2) It is well-documented that redditors lack nuance in their approach to relationships -- they respond similarly to several different types of issue someone may have with their partner. One does not need to be a Data Scientist to encourage those experiencing relationship difficulties to confer with friends, seek out a therapist, or read the literature rather than to consult strangers on the internet.\n",
    "\n",
    "(3) One possible recommendation would have been to do away with people announcing their gender/age in the post, however this does not appear to be necessary."
   ]
  },
  {
   "cell_type": "code",
   "execution_count": 2,
   "metadata": {},
   "outputs": [],
   "source": [
    "import json\n",
    "import praw\n",
    "\n",
    "f=json.load(open('reddit_api.json'))\n",
    "\n",
    "reddit = praw.Reddit(client_id=f[0]['username'], \\\n",
    "                     client_secret=f[1]['key'], \\\n",
    "                     user_agent=f[2]['appname'], \\\n",
    "                     username=f[2]['appname'], \\\n",
    "                     password=f[3]['password'])\n",
    "\n",
    "#Setting up the reddit API without giving away my passwords"
   ]
  },
  {
   "cell_type": "code",
   "execution_count": 3,
   "metadata": {},
   "outputs": [],
   "source": [
    "#Obtaining the data\n",
    "\n",
    "Mega=reddit.subreddit('AmITheAsshole+relationships')\n",
    "\n",
    "d={x:[] for x in ['code','title','body','score']}\n",
    "for submission in Mega.top(limit=2000):\n",
    "    d['code'].append(submission.id)\n",
    "    d['title'].append(submission.title)\n",
    "    d['body'].append(submission.selftext)\n",
    "    d['score'].append(submission.score)"
   ]
  },
  {
   "cell_type": "code",
   "execution_count": 4,
   "metadata": {},
   "outputs": [
    {
     "data": {
      "text/html": [
       "<div>\n",
       "<style scoped>\n",
       "    .dataframe tbody tr th:only-of-type {\n",
       "        vertical-align: middle;\n",
       "    }\n",
       "\n",
       "    .dataframe tbody tr th {\n",
       "        vertical-align: top;\n",
       "    }\n",
       "\n",
       "    .dataframe thead th {\n",
       "        text-align: right;\n",
       "    }\n",
       "</style>\n",
       "<table border=\"1\" class=\"dataframe\">\n",
       "  <thead>\n",
       "    <tr style=\"text-align: right;\">\n",
       "      <th></th>\n",
       "      <th>code</th>\n",
       "      <th>title</th>\n",
       "      <th>body</th>\n",
       "      <th>score</th>\n",
       "    </tr>\n",
       "  </thead>\n",
       "  <tbody>\n",
       "    <tr>\n",
       "      <th>0</th>\n",
       "      <td>d6xoro</td>\n",
       "      <td>META: This sub is moving towards a value syste...</td>\n",
       "      <td>I’ve enjoyed reading and posting on this sub f...</td>\n",
       "      <td>80917</td>\n",
       "    </tr>\n",
       "    <tr>\n",
       "      <th>1</th>\n",
       "      <td>azvko1</td>\n",
       "      <td>UPDATE, AITA for despising my mentally handica...</td>\n",
       "      <td>I'm back like I said I would be,. My [original...</td>\n",
       "      <td>72773</td>\n",
       "    </tr>\n",
       "    <tr>\n",
       "      <th>2</th>\n",
       "      <td>gr8bp3</td>\n",
       "      <td>AITA For suing my girlfriend after she had my ...</td>\n",
       "      <td>I'll try to keep this short. I had a [1967 Imp...</td>\n",
       "      <td>69122</td>\n",
       "    </tr>\n",
       "    <tr>\n",
       "      <th>3</th>\n",
       "      <td>cjetsa</td>\n",
       "      <td>UPDATE: AITA for wanting to go to the funeral ...</td>\n",
       "      <td>I want to sincerely thank everyone who comment...</td>\n",
       "      <td>67571</td>\n",
       "    </tr>\n",
       "    <tr>\n",
       "      <th>4</th>\n",
       "      <td>e5k3z2</td>\n",
       "      <td>AITA for pretending to get fired when customer...</td>\n",
       "      <td>I am a high schooler with a weekend job at a c...</td>\n",
       "      <td>63528</td>\n",
       "    </tr>\n",
       "  </tbody>\n",
       "</table>\n",
       "</div>"
      ],
      "text/plain": [
       "     code                                              title  \\\n",
       "0  d6xoro  META: This sub is moving towards a value syste...   \n",
       "1  azvko1  UPDATE, AITA for despising my mentally handica...   \n",
       "2  gr8bp3  AITA For suing my girlfriend after she had my ...   \n",
       "3  cjetsa  UPDATE: AITA for wanting to go to the funeral ...   \n",
       "4  e5k3z2  AITA for pretending to get fired when customer...   \n",
       "\n",
       "                                                body  score  \n",
       "0  I’ve enjoyed reading and posting on this sub f...  80917  \n",
       "1  I'm back like I said I would be,. My [original...  72773  \n",
       "2  I'll try to keep this short. I had a [1967 Imp...  69122  \n",
       "3  I want to sincerely thank everyone who comment...  67571  \n",
       "4  I am a high schooler with a weekend job at a c...  63528  "
      ]
     },
     "execution_count": 4,
     "metadata": {},
     "output_type": "execute_result"
    }
   ],
   "source": [
    "import pandas as pd\n",
    "import numpy as np\n",
    "\n",
    "df=pd.DataFrame(d,columns=['code','title','body','score'])\n",
    "\n",
    "df.head()"
   ]
  },
  {
   "cell_type": "code",
   "execution_count": 13,
   "metadata": {},
   "outputs": [
    {
     "data": {
      "text/html": [
       "<div>\n",
       "<style scoped>\n",
       "    .dataframe tbody tr th:only-of-type {\n",
       "        vertical-align: middle;\n",
       "    }\n",
       "\n",
       "    .dataframe tbody tr th {\n",
       "        vertical-align: top;\n",
       "    }\n",
       "\n",
       "    .dataframe thead th {\n",
       "        text-align: right;\n",
       "    }\n",
       "</style>\n",
       "<table border=\"1\" class=\"dataframe\">\n",
       "  <thead>\n",
       "    <tr style=\"text-align: right;\">\n",
       "      <th></th>\n",
       "      <th>code</th>\n",
       "      <th>title</th>\n",
       "      <th>body</th>\n",
       "      <th>score</th>\n",
       "    </tr>\n",
       "  </thead>\n",
       "  <tbody>\n",
       "    <tr>\n",
       "      <th>1818</th>\n",
       "      <td>5uowwb</td>\n",
       "      <td>UPDATE:Coworker [25F] thinks we [22F] [20 - 30...</td>\n",
       "      <td>Previous post [here] (https://www.reddit.com/r...</td>\n",
       "      <td>1899</td>\n",
       "    </tr>\n",
       "    <tr>\n",
       "      <th>1819</th>\n",
       "      <td>1rqjs0</td>\n",
       "      <td>(UPDATE-2) I'm a waitress and I (F24) have a H...</td>\n",
       "      <td>[Previous Post](http://www.reddit.com/r/relati...</td>\n",
       "      <td>1889</td>\n",
       "    </tr>\n",
       "    <tr>\n",
       "      <th>1820</th>\n",
       "      <td>18om8d</td>\n",
       "      <td>My(14m) mom(30f)is remarrying and there isn't ...</td>\n",
       "      <td>He lives in Texas and we live in Virginia, so ...</td>\n",
       "      <td>1891</td>\n",
       "    </tr>\n",
       "    <tr>\n",
       "      <th>1821</th>\n",
       "      <td>fwiud6</td>\n",
       "      <td>BF (26 M) accuses me of getting mad because he...</td>\n",
       "      <td>Hi all,\\n\\nIt is currently the third week of q...</td>\n",
       "      <td>1876</td>\n",
       "    </tr>\n",
       "    <tr>\n",
       "      <th>1822</th>\n",
       "      <td>hdg0az</td>\n",
       "      <td>UPDATE - My wife’s mental illness has devastat...</td>\n",
       "      <td>Original post:\\n\\nhttps://www.reddit.com/r/rel...</td>\n",
       "      <td>1310</td>\n",
       "    </tr>\n",
       "  </tbody>\n",
       "</table>\n",
       "</div>"
      ],
      "text/plain": [
       "        code                                              title  \\\n",
       "1818  5uowwb  UPDATE:Coworker [25F] thinks we [22F] [20 - 30...   \n",
       "1819  1rqjs0  (UPDATE-2) I'm a waitress and I (F24) have a H...   \n",
       "1820  18om8d  My(14m) mom(30f)is remarrying and there isn't ...   \n",
       "1821  fwiud6  BF (26 M) accuses me of getting mad because he...   \n",
       "1822  hdg0az  UPDATE - My wife’s mental illness has devastat...   \n",
       "\n",
       "                                                   body  score  \n",
       "1818  Previous post [here] (https://www.reddit.com/r...   1899  \n",
       "1819  [Previous Post](http://www.reddit.com/r/relati...   1889  \n",
       "1820  He lives in Texas and we live in Virginia, so ...   1891  \n",
       "1821  Hi all,\\n\\nIt is currently the third week of q...   1876  \n",
       "1822  Original post:\\n\\nhttps://www.reddit.com/r/rel...   1310  "
      ]
     },
     "execution_count": 13,
     "metadata": {},
     "output_type": "execute_result"
    }
   ],
   "source": [
    "df.tail()"
   ]
  },
  {
   "cell_type": "code",
   "execution_count": 10,
   "metadata": {},
   "outputs": [
    {
     "name": "stderr",
     "output_type": "stream",
     "text": [
      "C:\\Users\\dkond\\Anaconda3\\lib\\site-packages\\scipy\\stats\\stats.py:1713: FutureWarning: Using a non-tuple sequence for multidimensional indexing is deprecated; use `arr[tuple(seq)]` instead of `arr[seq]`. In the future this will be interpreted as an array index, `arr[np.array(seq)]`, which will result either in an error or a different result.\n",
      "  return np.add.reduce(sorted[indexer] * weights, axis=axis) / sumval\n",
      "C:\\Users\\dkond\\Anaconda3\\lib\\site-packages\\matplotlib\\axes\\_axes.py:6462: UserWarning: The 'normed' kwarg is deprecated, and has been replaced by the 'density' kwarg.\n",
      "  warnings.warn(\"The 'normed' kwarg is deprecated, and has been \"\n"
     ]
    },
    {
     "data": {
      "image/png": "[encoded data removed]",
      "text/plain": [
       "<Figure size 432x288 with 1 Axes>"
      ]
     },
     "metadata": {},
     "output_type": "display_data"
    }
   ],
   "source": [
    "import matplotlib.pyplot as plt\n",
    "import seaborn as sns\n",
    "\n",
    "sns.distplot(df.score)\n",
    "plt.show()"
   ]
  },
  {
   "cell_type": "code",
   "execution_count": 11,
   "metadata": {},
   "outputs": [
    {
     "name": "stdout",
     "output_type": "stream",
     "text": [
      "<class 'pandas.core.frame.DataFrame'>\n",
      "RangeIndex: 1823 entries, 0 to 1822\n",
      "Data columns (total 4 columns):\n",
      "code     1823 non-null object\n",
      "title    1823 non-null object\n",
      "body     1823 non-null object\n",
      "score    1823 non-null int64\n",
      "dtypes: int64(1), object(3)\n",
      "memory usage: 57.1+ KB\n"
     ]
    }
   ],
   "source": [
    "df.info()"
   ]
  },
  {
   "cell_type": "code",
   "execution_count": 12,
   "metadata": {},
   "outputs": [
    {
     "data": {
      "text/html": [
       "<div>\n",
       "<style scoped>\n",
       "    .dataframe tbody tr th:only-of-type {\n",
       "        vertical-align: middle;\n",
       "    }\n",
       "\n",
       "    .dataframe tbody tr th {\n",
       "        vertical-align: top;\n",
       "    }\n",
       "\n",
       "    .dataframe thead th {\n",
       "        text-align: right;\n",
       "    }\n",
       "</style>\n",
       "<table border=\"1\" class=\"dataframe\">\n",
       "  <thead>\n",
       "    <tr style=\"text-align: right;\">\n",
       "      <th></th>\n",
       "      <th>score</th>\n",
       "    </tr>\n",
       "  </thead>\n",
       "  <tbody>\n",
       "    <tr>\n",
       "      <th>count</th>\n",
       "      <td>1823.000000</td>\n",
       "    </tr>\n",
       "    <tr>\n",
       "      <th>mean</th>\n",
       "      <td>14515.837082</td>\n",
       "    </tr>\n",
       "    <tr>\n",
       "      <th>std</th>\n",
       "      <td>11816.507793</td>\n",
       "    </tr>\n",
       "    <tr>\n",
       "      <th>min</th>\n",
       "      <td>1310.000000</td>\n",
       "    </tr>\n",
       "    <tr>\n",
       "      <th>25%</th>\n",
       "      <td>2874.000000</td>\n",
       "    </tr>\n",
       "    <tr>\n",
       "      <th>50%</th>\n",
       "      <td>16912.000000</td>\n",
       "    </tr>\n",
       "    <tr>\n",
       "      <th>75%</th>\n",
       "      <td>22231.500000</td>\n",
       "    </tr>\n",
       "    <tr>\n",
       "      <th>max</th>\n",
       "      <td>80917.000000</td>\n",
       "    </tr>\n",
       "  </tbody>\n",
       "</table>\n",
       "</div>"
      ],
      "text/plain": [
       "              score\n",
       "count   1823.000000\n",
       "mean   14515.837082\n",
       "std    11816.507793\n",
       "min     1310.000000\n",
       "25%     2874.000000\n",
       "50%    16912.000000\n",
       "75%    22231.500000\n",
       "max    80917.000000"
      ]
     },
     "execution_count": 12,
     "metadata": {},
     "output_type": "execute_result"
    }
   ],
   "source": [
    "df.describe()"
   ]
  },
  {
   "cell_type": "code",
   "execution_count": 14,
   "metadata": {},
   "outputs": [
    {
     "data": {
      "text/plain": [
       "0    720\n",
       "F    659\n",
       "M    444\n",
       "Name: Gender, dtype: int64"
      ]
     },
     "execution_count": 14,
     "metadata": {},
     "output_type": "execute_result"
    }
   ],
   "source": [
    "#Assign male/female to the poster. This does not have to be perfect, it just needs to be as smart as the average redditor\n",
    "import re\n",
    "\n",
    "Mpattern=re.compile('((i)|(I)|(me)|(Me)|(My)|(my))(\\s?)(\\[|\\(|\\{)(m|M|(\\d\\dm)|(\\d\\dM))')\n",
    "Fpattern=re.compile('((i)|(I)|(me)|(Me)|(My)|(my))(\\s?)(\\[|\\(|\\{)(f|F|(\\d\\df)|(\\d\\dF))')\n",
    "Mrelationships=re.compile('((wife)|(girlfriend)|(Wife)|(Girlfriend)|(gf)|(Gf)|(GF))')\n",
    "Frelationships=re.compile('((husband)|(boyfriend)|(Husband)|(Boyfriend)|(bf)|(Bf)|(BF))')\n",
    "\n",
    "\n",
    "Gender=[]\n",
    "\n",
    "for idx in df.index:\n",
    "    if Mpattern.search(df.title[idx])  or Mpattern.search(df.body[idx]) : \n",
    "        Gender.append('M')\n",
    "    elif Fpattern.search(df.title[idx]) or Fpattern.search(df.body[idx]): \n",
    "        Gender.append(\"F\")\n",
    "    elif Mrelationships.search(df.title[idx]):\n",
    "        Gender.append('M')\n",
    "    elif Frelationships.search(df.title[idx]):\n",
    "        Gender.append('F')   \n",
    "    else:\n",
    "        Gender.append(0)\n",
    "\n",
    "df['Gender']=Gender\n",
    "df.Gender.value_counts()"
   ]
  },
  {
   "cell_type": "code",
   "execution_count": 44,
   "metadata": {},
   "outputs": [
    {
     "name": "stdout",
     "output_type": "stream",
     "text": [
      "0.5974614687216682\n"
     ]
    },
    {
     "data": {
      "image/png": "[encoded data removed]",
      "text/plain": [
       "<Figure size 432x288 with 1 Axes>"
      ]
     },
     "metadata": {},
     "output_type": "display_data"
    }
   ],
   "source": [
    "print(659/(659+444)) #More women appear than men. Odd, usually its men who are associated with reddit usage.\n",
    "\n",
    "\n",
    "\n",
    "# def absolute_value(val):\n",
    "#     a  = numpy.round(val/100.*sizes.sum(), 0)\n",
    "#     return a\n",
    "\n",
    "plt.pie(df.Gender.value_counts(),labels=df.Gender.value_counts().index,autopct=lambda x: np.round(x,2))\n",
    "plt.show()"
   ]
  },
  {
   "cell_type": "code",
   "execution_count": 19,
   "metadata": {},
   "outputs": [
    {
     "name": "stdout",
     "output_type": "stream",
     "text": [
      "0\n",
      "META: This sub is moving towards a value system that frequently doesn't align with the rest of the world\n",
      "I’ve enjoyed reading and posting on this sub for many months now, and I feel like I’ve noticed a disconcerting trend, lately. Over time, more and more of the posts seem to have A- a universal consensus on every post, with any dissenters massively downvoted and B- a shift towards judgments that seem (to me at least) to be out of step with how people in the real world judge situations.\n",
      "\n",
      "Given that, I think it’s important to remember that even though the sub is not intended to be for validation posts or to be an echo chamber or to give advice on how people should behave in specific situations- in practice, a lot of times it is.\n",
      "\n",
      "So just as a reminder- offline, people in your real life will think you’re an asshole if you take the last cookie when you know the child behind you wants it.\n",
      "\n",
      "They’ll think you’re an asshole if you don’t stand up for an elderly person on a bus. They’ll think you’re an asshole if you don’t go out for drinks with your co-workers once in a while. They’ll think you’re an asshole if you don’t try to be involved in your child’s life, no matter how much support you pay. They’ll think you’re an asshole if you can’t help out your brother with babysitting once in a while, even if you’re childfree. They’ll think you’re an asshole if you wear nothing but underwear in your own home when your roommate has guests over. They’ll think you’re an asshole if you can’t detour for 10 minutes a day to carpool with a co-worker for a week while his car is in the shop.\n",
      "\n",
      "The internet has its own values, and that’s fine. But in the real world, people who can’t just go along to get along most of the time? People who don’t want to mildly inconvenience themselves to help out the people around them? People who don’t seem to put any stock into the idea of collectivism? The people around them are going to consider them to be assholes.\n",
      "\n",
      "So yeah. I love this sub, I love reading the stories and I find it very interesting to hear people’s opinions. But I personally think that probably more than 50% of the time, the people I know in real life would disagree with the sub’s judgement of who’s the asshole in a given situation. I don’t know if the disparity is just because of reddit’s demographics, or because people with alternate perspectives see the writing on the board and don’t want to get down voted to oblivion.\n",
      "\n",
      "So even if you get 4000 replies on reddit saying that you’re totally in the right, if everyone in your real life thinks you’re an asshole, well… there’s probably a reason for that. And maybe this is just me, but I really wish we could have more discussion about if someone is being an asshole if they’re being inconsiderate or selfish, even if they don’t technically “owe” anyone anything.\n",
      "\n",
      "Or maybe you believe that people offline are wrong, and we should continue to promote the individualistic value system seen on reddit both on and offline. That's a discussion worth having too.\n",
      "\n",
      "Edit: Thanks guys, this is very interesting discussion so far. And lol don't just downvote the people who disagree with me/you, engage them without being combative.\n",
      "\n",
      "Edit 2: I’ve never seen this movie, but it’s come to my attention that there already exists in this world an excellent TL,DR: “You’re not wrong Walter, you’re just an asshole”\n",
      "######\n",
      "0\n",
      "UPDATE, AITA for despising my mentally handicap sister?\n",
      "I'm back like I said I would be,. My [original post](https://www.reddit.com/r/AmItheAsshole/comments/awyi8k/aita_for_despising_my_mentally_handicap_sister/) got a lot of attention and seeing as you guys seem interested, here's my update.\n",
      "\n",
      "Well, since that day I made the post i've been staying with my grandfather. The week's been honestly a huge change for me for better and for worse but i'll try to run it down.\n",
      "\n",
      "I started by telling my grandpa the story of why I broke down the way I did and to be honest, he seemed horrified. No one in my family knew my parents were using me as essentially a free care service for my sister. My grandpa told me some things that I don't feel comfortable repeating here but in essence my sister is \"supposed\" to be getting care from a professional and that my parents were ignoring that, along with this I was not supposed to be caring for her at all with her mental state as apparently she is a danger to herself and others. With everything else I told him, along with stuff like the movie indecent he was really mad and told me to not contact my parents without him there. He pretty much told me that he would be meeting with my parents beforehand and that he was going to be there when I sat down with them. It didn't end here either, the rest of the week consisted of other family checking in on me and telling me things my parents hid from me. This included the fact that my parents have been taking money from family to fund a \"caretaker\" that doesn't exist.\n",
      "\n",
      "Suffice to say, this week has been rough. But, the upside is that even through all this, my extended family has been giving me more love than i've felt in a while. My grandfather spent this last week \"making up for the time i've lost.\" Encouraging me to spend time with friends and do things I want to do. My aunts and uncles have also been helping me through the week.\n",
      "\n",
      "Well, Saturday night I sat down with parents to talk. It went badly to say the least. They came clean to me about everything. They told me things I will not repeat here. But they did not apologize. My parents still claim that I some how owed my sister my time. My father even saying \"You were put here to be her caretaker\". I won't lie and say I was composed. After everything i learned I confronted them. On the fact that my sister needed a caretaker. The money my dad was taking from his sister, and a few other things. They denied it or made excuses. And in the end, we ended off in a worse place than before.\n",
      "\n",
      "Today will be my last time talking to them for a while. After talking with my grandfather and uncle last night, I'm not going back. Later today i'm going there and picking up my stuff and moving in with my grandfather. When I graduate high school i'm planning on leaving the state to go to school. My aunt has told me that the money she was sending my dad will be instead be coming to me from now on. My parents have called me twice since Saturday, neither of them were to apologize and only ask when I was coming home.\n",
      "\n",
      "I won't be going back to them. Right now I still feel pretty uneasy about everything but I feel like that will pass. The rest of my family is showing their support to me and honestly, it feel great. But in the end I lost my parents. Over all of this, i've learned something that I wished I saw earlier. I don't hat my sister. In fact I love her with all my heart. I should never have never projected my hate onto her. That was wrong, and someday I hope to make up for it. But for now I need to leave.\n",
      "\n",
      "So, there's my update. Thanks again for the support my original post got. I really appreciate everyone who took the time to comment or show me support. Thanks you.\n",
      "\n",
      "&#x200B;\n",
      "\n",
      "&#x200B;\n",
      "\n",
      "Edit: Thank you all so much! I wish I could respond to every single one of you but my lunch only lasts so long. I'll update tonight how the move out went but until then, thank you all. I want to say that your support has been amazing and your kindness means more to me than anyone could ever imagine.\n",
      "\n",
      "&#x200B;\n",
      "\n",
      "Late edit: Wow, I never imagined my story would reach the popularity it did. I know it's kinda cliche and i've said it a thousand times but thank you all. \n",
      "\n",
      "&#x200B;\n",
      "\n",
      "We just got back from moving my things out of my parents house. Every thing I wanted to take my grandpa and uncle helped move and it's at my grandpa's house now. I have my birth certificate, social security card, and every other document and record I could think of. My parents were quiet the whole time I was there. Shorty after I arrived my dad left with my sister and my mom only hovered over us silently as me moved. It took a while but as we left she broke down and told me she loved me and would miss me. I hugged her and said goodbye, and that was it. Even now I sit here and think if she really meant it. After this whole week of her not saying anything she waited till the end. I hope she meant it. Right now though, I think I just need to look ahead. Maybe one day me and my parents can reconnect. I hope so.\n",
      "\n",
      "&#x200B;\n",
      "\n",
      "Thank you all for the advice and love. It's been amazing and i'm glad that through this experience I at least got some positive out of this mess. Will I come back? I don't know. If something happens and you guys still want an update i'll maybe come around again. But for now I'm going to move on. For all those out there who shared their stories with me, thank you, and I hope to see you on the other side. See you space cowboy's :)\n",
      "######\n",
      "M\n",
      "AITA For suing my girlfriend after she had my 1967 impala project taken to the scrapyard?\n",
      "I'll try to keep this short. I had a [1967 Impala 4 door](https://i.imgur.com/HLBPpTF.jpg) that I bought in Feb 2019. A couple months ago I bought my first house that had a 2.5 car garage. I moved the car in and started tearing it down for a complete restoration. I had the body in one bay and the chassis in another, plus the whole garage filled with parts. About two months ago my girlfriend came to live with me during this whole crisis and the whole time has hated that car. She wants to park in the garage but I have 2 acres of land with a lot of nice places to park under shady trees or hell even in the barn if it has to be inside. I tell her tough luck its my house and its not like I can just throw it back together real quick. Anyways I was out of town for a couple days on a business trip for the small local company I work for. When I got back, my girlfriend was all smiles. Making me food all the time, doing all the chores, all that. I though maybe she just was happy to have me home but then I realized that I didn't see her car in it's usual spot. I asked her where she parked so I could make sure I mow that area and keep it clean and she said not to worry because she parked in the garage. I asked how and she told me to go check it out. Turns out that while I was gone she hired some people to come over and move everything related to that car, including the drivetrain, body, and chassis and all parts, and take it to the local dump/scrapyard. I was absolutely dumbfounded. I had spent over 11k on that car including new parts, services, and the car itself. I told her that I was going to be taking her to court for that and she brushed me off like I was being dramatic. I told her that its done between us and to pack her things and leave. I admit I was a really angry but I did end up getting a lawyer, and as I have all the receipts for all that money spent and I have her on my house's security cam footage letting the guys in and watching them take it all I think I can win. Her family and friends are absolutely blowing me up saying its just a stupid old piece of junk and that she cannot pay back all that money I spent, and that I should just let it go. But I have been putting all my time, effort, and money into that car for a year and a half now and goddammit if I am not going to get justice for what she did. AITA\n",
      "\n",
      "Edit: Thank you all so much for the support and awards and everything. I'm glad I have some people on my side. I got a call from her mom about 20 minutes ago and she told me that i was ruining her daughter's life over a stupid car. I told her she ruined her own life. I've been gathering documentation and stuff and I'm about to head down to the police station and file a report, as suggested by lots here. Once again thank you all\n",
      "\n",
      "UPDATE : went to the police station last night, was told to come back in the morning. just got back and filed an official report against her for grand larceny and grand theft auto. i showed them all the receipts i had for the car and the footage of her letting the guys come and take it as well as the title for the vehicle in my name. they said they will be in contact with all 3 parties (me, ex gf, and junkyard guys) soon and they will hopefully be able to recover some or all of the car. just have to wait now\n",
      "\n",
      "HUGE UPDATE : THEY FOUND MY GODDAMN CAR!! the junkyard guys apparently were in the middle of hiding it when the police came to ask them questions. it was on a forklift and they were gonna put it on top of a pile of cars that was hidden behind more piles of cars. they said it was theirs and they had the title, but obviously didnt have the title for it and since they matched the vin on the chassis and body to the vin on my title, it was obviously mine. I know at least one person there has been arrested, i think he was in the camera footage i talked about earlier but idk if it was the boss or whomever or even his specific charge, they also told me they would be looking into this specific junkyard for any other vehicles reported stolen. they said they haven't been able to get in contact with my ex just yet but they're working on it. im just so glad they found my car. luckily i made quite an album of pictures detailing me tearing down the car and so i can use that to prove what parts they had were mine so i can hopefully get most or all of it back. police haven't let me take it back home yet as they say it is evidence or something so hopefully i can get it back eventually. thank you all so much for the support and advice! SHES GONNA BE ALRIGHT\n",
      "######\n",
      "0\n",
      "UPDATE: AITA for wanting to go to the funeral of a girl that I helped get addicted to drugs?\n",
      "I want to sincerely thank everyone who commented. Everyone’s comments were appreciated, including those that were less than pleasant. \n",
      "\n",
      "Since I received such great advice on my original post, I felt like I had an obligation to update. And I’m trying to follow through on all aspects of my life, even internet ones. \n",
      "\n",
      "The funeral service was held this past Thursday. Before then, I brought all the advice I received online and brought it to the real world and talked to both my therapist and sponsor about how I was feeling and what I should do. \n",
      "\n",
      "My sponsor was straight with me and told me that I would be putting myself in danger by going and that I should do something else that day to grieve. \n",
      "\n",
      "When Thursday rolled around, I was a mess. I seriously considered both just going to the funeral or using again but instead I grabbed my dog and we went on a road trip. \n",
      "\n",
      "We went to the beach and just hung out the two of us. \n",
      "\n",
      "I’m doing okay this week, but obviously am still not doing great. \n",
      "\n",
      "I haven’t reached out to any of Marcy’s family and I don’t plan to. I understand now how devastating that would be. \n",
      "\n",
      "That’s it. Take care everyone.\n",
      "######\n",
      "0\n",
      "AITA for pretending to get fired when customers get a temper with me?\n",
      "I am a high schooler with a weekend job at a coffee shop. My coworkers who work weekends are: \n",
      "\n",
      "James - the owners son, he goes to my school. He's a shift manager but it's not a real formal thing, he's a friendly guy.\n",
      "\n",
      "Danielle - A college student who sometimes works weekends too.\n",
      "\n",
      "So sometimes customers will come in and just be angry about such little stuff. Like literally blow up about nothing. I dunno if theyre in a bad mood already and looking for someone to take it out on or what, but it's a lot... Like how sad so your have to be to be a grown-ass man taking your anger out on high school and college kids.\n",
      "\n",
      "So James and I were joking about having a little fun with them and hopefully getting them off our backs.\n",
      "\n",
      "So one day I was at work and some guy was having a temper about how we don't make the coffee hot enough... Which I couldn't do a thing about because I gave it to him right out of the machine.\n",
      "\n",
      "So James came in and was like \"sir is there a problem here\" and the guy started ranting at him too. So he was just like \"OP, this is unacceptable, you're fired.\" \n",
      "\n",
      "I started acting real sad, like \"no please don't fire me, my family needs the money, I need this job, pleaseeee\" and he played up being a hard-ass, telling me to take off my apron and leave.\n",
      "\n",
      "The angry guy started to backtrack, like \"It isn't that big of a problem, you don't need to fire her over it. I didn't mean it\" and James was like \"No, we pride ourselves on the best customer service\"\n",
      "\n",
      "Of course after all that drama I still had my job, we were just acting. And we've done it a couple times, whenever a customer will lose their temper at Danielle or I, James will storm in and \"fire\" us. And almost every time, the person who had come in angry will apologise and say that they didn't mean it. It's kind of satisfying, making people realize their actions might actually have consequences. \n",
      "\n",
      "Anyway, I was telling my friends from school about this and a few of them thought it was a mean prank, to let someone go away thinking they'd gotten someone who desperately needs the money fired.\n",
      "\n",
      "AITA for this joke?\n",
      "######\n",
      "0\n",
      "UPDATE: WIBTA if I took over planning my own funeral from my very religious parents?\n",
      "Hello, everyone. First of all, thank you all for the kind words, support and love that everyone has offered and given. These weeks have been the most difficult I have ever experienced and it is with great sadness that I tell you all that my beautiful and cat crazy wife, has passed. I've had to cut this short due to character limits, sorry all. But, she did leave all of you a note, Reddit. I've copied everything verbatim below. She truly loved everyone and was smiling so much after her first post. I'll take my leave here. Much love.\n",
      "\n",
      "\"Reddit! If you're reading this, I am dead. Pretty crazy to be talking to a dead person, eh? It feels a bit strange to be writing this. If this feels a bit disconnected, I'm sorry. I have to take frequent breaks as I get tired pretty quickly now. My husband offered to write these words (such a sweet ham, I know. Be nice to him, okay?). But, I wanted my last words to be written by me. Long story short, we talked to my parents. A lot of people asked about why my husband wasn't planning the funeral and my parents were taking control. Honestly, my parents didn't take the news of my passing to come well and I suppose their closure(?) was to try and take control of what they could. I'm not angry at them for it, I understand. They had already pre-paid a large portion of the service and to put it plain and simple, it was a shit hand they were dealt. So, we talked to them. I laid it all out for them and somehow, we reached a compromise. Lots of tears. Lots of hugs. And surprisingly, lots of laughs. They admitted that they had been losing their faith with everything that had happened and their way to attempt to find it again was to take control and \"guide me\" into the afterlife. Not my thing though and I explained that I am not them, but their daughter who wanted to live her last weeks in peace, not the turmoil they were putting me through. And while a lot of people stated that funerals are for the living (true true), I firmly believe that a funeral is for the living to remember that person as WHO they were, not what anyone else wanted them to be. My parents seemed to understand when I told them that. They were not on board with the party favor aspect though, kind of a bummer. Pretty lucky to plan my own funeral, honestly. But, now that that is all said and done! Thank you, guys. I was blown away by the responses.I was moved to tears and I wish I had had the chance to meet every single one of you. You all be good now, ight? Take it one day at a time and fucking enjoy yourself! You only get one life, unless you're someone who has survived death than you're just a fucking hero and probably a cat with a few lives to spare. I love you all. I'm resting easy now. This disease sucks and I'm happy to be rid of it. And laugh and love and cry and be sad. Shit happens. I've got to go now, I'm gonna go snuggle my husband and my cats. Keep it real, Reddit. Love you, all!\"\n",
      "######\n",
      "0\n",
      "AITA for making a dad joke?\n",
      "Note. My step-daughter, Madeline, was about a year old when I married her mother, Jessica. Madeline’s father died before she was born. \n",
      " \n",
      "Madeline is currently 15, and she’s rebelling for almost everything. She did something bad, so while picking her up, I set a punishment up for her. Then she said “You’re not my dad. I don’t have to follow you”. Honestly, I got a bit hurt from that. But I understand that she didn’t mean it, and that she’d probably change. I just replied “I’m still your legal guardian for the next 3 years, and as long as your in my house, you have to follow my rules.” \n",
      " \n",
      "That happened about 2 days ago. So our family was going grocery shopping, when Madeline said “I’m hungry. I need food.” I decide to be extremely cheeky and say “Hi Hungry, I’m not your dad.” My son just started to laugh uncontrollably. My daughter was just quiet with embarrassment. And my wife was berating me “Not to stoop down to her level.” \n",
      " \n",
      "I honestly thought it was a funny dad joke. And my son agrees. So AITA?\n",
      " \n",
      "Edit: I did adopt her. So legally I am her parent.\n",
      "\n",
      " \n",
      "Mini Update: I’ll probably give a full update later but here is what happened so far. I go to my daughter’s room after dinner and begin talking with her. “Hey. I’m really sorry that I hurt you by the words I said. And I am really your dad. I changed your diapers, I met your boyfriend, and I plan on helping you through college. And plus I’m legally your dad, so we’re stuck together. But seriously, I’m going to love you like my daughter even if you don’t think I’m your dad. Then I hugged her. She did start to cry. I assume that’s good.\n",
      "######\n",
      "0\n",
      "AITA for telling my extended family how many men (roughly) my sister has slept with after she outed our youngest brother as a virgin?\n",
      "We had a family dinner this evening. My family has four kids in total: me, my elder sister (29F), younger sister (24F) and youngest brother (22M).\n",
      "\n",
      "Extended family attended our family dinner. So all of our significant others, our cousins, aunts and uncles etc. During the dinner my elder sister and youngest brother got into a mild disagreement. My sister seemed (at least to me) to be coming across as very aggressive out of frustration and losing said argument. The two of them were too absorbed in their argument to realise the rest of us were getting a bit fed up.\n",
      "\n",
      "Eventually my sister got really fed up and said “Shut up, I’m not going to argue with a 22 year old virgin.” My brother hadn’t done any personal attacks up until that point, it was completely unprovoked. I think it might have been the alcohol as my sister is a mean drunk. \n",
      "\n",
      "Anyway, I immediately told my sister to grow up and that she was making an embarrassment of herself. She replied by saying everyone knows he’s a virgin and she didn’t say anything wrong. This annoyed me as my bro definitely has confidence issues and doesn’t need to be made fun of like this.\n",
      "\n",
      "So I responded by saying how she slept with well over a hundred men while she was in college, and that since everyone in the family knows this it’s not a big deal right? Turns out her husband didn’t know this amazingly, I genuinely assumed he must have known. he left the party angrily saying my sister mislead him about her past.\n",
      "\n",
      "Family is blaming me for their marital problems. I refuse to accept I did anything wrong. My sister bullied my brother in front of everyone, all I did was give her a taste of her own medicine.\n",
      "######\n",
      "0\n",
      "META: Too many AITA commenters advocate too quickly for people to leave their partners at the first sign of conflict, and this kind of thinking deprives many people of emotional growth.\n",
      "I’ve become frustrated with how quick a lot of AITA commenters are to encourage OP’s to leave their partners when a challenging experience is posted. While leaving a partner is a necessary action in some cases, just flippantly ending a relationship because conflicts arise is not only a dangerous thing to recommend to others, but it deprives people of the challenges necessary to grow and evolve as emotionally intelligent adults. \n",
      "\n",
      "When we muster the courage to face our relationship problems, and not run away, we develop deeper capacities for Love, Empathy, Understanding, and Communication. These capacities are absolutely critical for us as a generation to grow into mature, capable, and sensitive adults. \n",
      "\n",
      "Encouraging people to exit relationships at the first sign of trouble is dangerous and immature, and a byproduct of our “throw-away” consumer society. I often get a feeling that many commenters don’t have enough relationship experience to be giving such advise in the first place. \n",
      "\n",
      "Please think twice before encouraging people to make drastic changes to their relationships; we should be encouraging greater communication and empathy as the first response to most conflicts. \n",
      "######\n",
      "0\n",
      "AITA for suggesting my 7yo name his new stuffed tiger \"Tig Bitties\"?\n",
      "Pretty much the title. My son won a stuffed tiger at the fair last night and said he had named him \"Tig\". He asked me what its last name should be. I couldn't help myself and just instantly replied \"Bitties\". Then I turned to my wife to share a smirk, but she was pissed and quickly suggested a few different last names, but my son insisted that he liked \"Bitties\", so now his Tiger is Tig Bitties. My wife thinks it was completely inappropriate, I think it was a silly joke that went over his head and will have no negative ramifications.\n",
      "######\n",
      "0\n",
      "WIBTA for refusing to stop cooking bacon in my kitchen due to my teenage daughters vegan lifestyle?\n",
      "Dad here, old fart, loves his daughter to pieces but I’m struggling to see eye to eye with my teenager and wife on this one. \n",
      "\n",
      "We’ve always been a meat eating family, we live in the rural Midwest and bacon for breakfast is pretty much a given. This year my 14 y/o daughter decided to go vegan, and I jumped onto her support team with enthusiasm. We learned how to substitute ingredients, cook new things, try new things, I adjusted our budget to include more expensive vegan substitutes for her, etc. \n",
      "\n",
      "None of this has been a problem for me until recently. She saw me cook bacon in a pan, and then I rinsed it out to load in the dishwasher. She exploded in anger (teen years, I’m not too fussed about the anger explosion, I know she doesn’t mean it) and said that that was HER pan for vegan food. I was completely floored and said, kiddo this here is a family pan, older than you, it’s not YOUR pan. \n",
      "\n",
      "She asked me to purchase her a pan that she can solely use for vegan food. I didn’t want her to feel weird about food, so I said sure, and ordered her a few colored ones that are only for her. The reason they’re colored is so it helps me remember that I’m not to touch them unless I’m cooking vegan. \n",
      "\n",
      "That wasn’t good enough. Now apparently the dishwasher is ‘contaminated’ with animal product, and the fridge has ‘bacon grease fingers’ on it (because I eat bacon and then touch the fridge) and she’s asked me and her mom to completely stop eating meat at home. I don’t mean I literally touch the fridge with greasy bacon hands, because I wash my hands, but it’s clearly enough that it upsets my daughter. \n",
      "\n",
      "frankly I’m on team hell no, her mom is much more amenable and strongly wants me to consider taking our daughter up on the request. My wife’s reasoning is that both our parents live close so we can eat meat products there, and that she doesn’t want our daughter to feel uncomfortable in the kitchen. My daughter says she is fine with cheese and butter in the fridge, but it’s specifically meat products that make her feel sick. Now I’m sorry for her, but I feel like she just needs to adapt and live side by side, because I’m not going to stop eating bacon in my own house.\n",
      "######\n",
      "0\n",
      "Aita for wearing the “joke” bikini my friend got me?\n",
      "So it was my birthday couple months ago. Had a party. Got some gifts. My friend “Mandy” for me a “super cute bikini”. I liked it. Said thanks. She had ripped the tags off but whatever. \n",
      "\n",
      "Anyway. Went to the community pool with my roommate. Wore bikini. Got in the water. Roommate immediately is like uhm girl.... I look and see that this bikini is now kinda see thru. \n",
      "\n",
      "Haha good joke Mandy. \n",
      "\n",
      "Anyway, Mandy invited me over to her place to hang out with her and her bf and a few others. Most leave and we’re still hanging out. I’m like hey, what if we get in your hot tub? I go change after them. And meet her bf in the hot tub she’s getting new drinks. I hop in. Immediately, he’s looking at my chest. I pretend I don’t notice and just make small talk. She comes out a few min after. And just looks in shock. Eventually gets in. “Uhh is that the one I bought?” Yeah I love it. I wear it everywhere. Make up some stuff about how I wore it to the beach, some party with lots of guys, etc. and she’s just like “oh”. \n",
      "\n",
      "We’re in the tub for 20-30. Eventually get out and change. She approached me after and was like. “Uhm I’m sorry thought you’d notice. But it goes kinda see thru”. I’m like yeah I know why’d you buy me a ducking see thru bathing suit? “She’s like it’s a joke. Wait you knew? So you just spent last 30’ flashing my bf on purpose?” I reply I’m just wearing my birthday gift from her. \n",
      "\n",
      "\n",
      "Anyway. Aita?\n",
      "######\n",
      "F\n",
      "AITA for punishing my son after he said something racist?\n",
      "About a week ago, my (39F) family ordered Chinese food for delivery. When the delivery driver came to the door, my daughter (16F) was taking the cat upstairs to put in her room because he always tries to eat the food. My son (13M)  loudly says, “Make sure the hide the cat from the Chinese guy!” as I am at the door getting the food from the Chinese delivery driver. He very obviously heard what my son said and was upset by it. I quickly apologized and took the food. \n",
      "\n",
      "I told my son that racist jokes were completely unacceptable and very wrong and he refused to admit that he was in the wrong. So, later that night I forced my son to write a sincere apology to the delivery driver, (his name was on the receipt) as well as write a one page paper on Chinese culture and a one page paper on why racism is perpetuated by racist jokes and stereotypes. Then the next day I took him to the restaurant and had him read his apology aloud to the delivery driver as well as give him the papers he wrote. The driver was very appreciative of the apology and thanked me for making my son do it. He then told my son about multiple instances where he had faced racist comments and attacks from people while he was a delivery driver. \n",
      "\n",
      "That night my husband (43M) and I got into an argument about me making our son do this. He told me that it was embarrassing for our son to have to do the apology and that the “punishment didn’t fit the crime”. I told him that it was much more embarrassing for the driver to have to face that kind of racism and racist stereotypes and that our son would get over the embarrassment. I do not condone any kind of hateful thinking in my house, and the fact that my son said that embarrassed me as well. My husband told me that it was “just a joke” and it wasn’t that big of a deal. I feel like I might have over reacted some but I think it’s important to help my son understand how what he said was wrong and hurtful.\n",
      "######\n",
      "0\n",
      "UPDATE WIBTA For planting prickly bushes in my front yard to keep the neighbours kids from my property?\n",
      "I was asked for an update on /r/AmItheAsshole/comments/g31n1q/wibta_for_planting_prickly_bushes_in_my_front/\n",
      "\n",
      "About a week after my post I planted a 'wall' of blackberries and raspberries at the 2 sides of my garden facing the driveway, about 30 cm from the edge so no overhanging branches! On the other side of the berry wall I planted lots stuff like strawberries and tomatoes. To reach the tomatoes and strawberries from the driveway you have either go through the fruitbushes or walk up to my house, walk about 2m along the side of the house and my windows and then walk into my actual garden. Not something you do by mistake.\n",
      "\n",
      "For about 2 weeks it was somewhat quiet but I still found the kids on my driveway every single days. As far as I know they did not enter the garden and I hadn't noticed them walking around my house anymore, so I figured the bushes were working.\n",
      "\n",
      "About 1 week ago berry season started and my bushes are now full of raspberries and there's lots of strawberries as well. The neighbours noticed. First I caught the boys picking and eating raspberries so I told them off and dropped them off at home, told their mom I caught them stealing (that's how I see it even though it's fruit) and that I'd call the cops next time. She huffed and told me to grow up, but took the boys inside anyway.\n",
      "\n",
      "After that it was quiet up until yesterday afternoon, when I went out for a while and found the dad and his 2 sons right in the middle of my garden when I returned, clearing my bushes and plants. I didn't even confront them, just called the cops from a distance as they hadn't noticed me yet and started filming them after making the call. Luckily 2 cops showed up after 10 minutes or so and they confronted the neighbour as they were still picking berries. They told them they were trespassing and that the berry picking was in fact considered stealing and that I could press charges. For the first time I noticed a bit of fear in my neighbour, he was having trouble finding his words and kept looking back at his house (I guess hoping his wife would show to yell at the cops). They all went inside with the cops, so I just went home as well.\n",
      "\n",
      "After a while the cops came by and asked me if I wanted to press charges. I asked them if they felt like they scared the neighbour enough to stay away. I got a small smile and yes about him, but the wife had just kept shouting at them and her husband about the 'little bitch' living next door. I told them no for now, asked them if I'd be allowed to get an extra camera set up on the wall between my garden and the road to cover the entire front garden + driveway, they said that's allowed as long as it's on my side of the wall.\n",
      "\n",
      "So, now I'm getting an extra camera installed, one neighbour knows I'm done messing around but his wife isn't there yet and if I ever catch any of them again, the cops will be called and possible charges will follow.\n",
      "######\n",
      "M\n",
      "AITA for telling my son he deserved his gf breaking up with him?\n",
      "So my son had a long-distance gf recently for about two years. She was great, a really nice girl and we all loved her welcomed her with open arms. She was flying here constantly to visit him, like a weekend a month and he didn’t lift a finger to go visit her. \n",
      "\n",
      "I tried talking to him about it several times and told him he should really start looking into flying over to her instead of expecting her to do all the travelling. He said no. And my wife probably had something to do with it as she constantly told him she was afraid of him flying. I spoke to them both and said this girl is great for him, she was willing to move over to our country too, but said there was one condition and that was he’d have to fly over to her country too. Which is fair enough. \n",
      "\n",
      "He said no, he didn’t want to fly or travel anywhere. My son was becoming lazier and lazier, eventually telling his gf and us that he was perfectly fine never travelling anywhere including holidays etc. \n",
      "\n",
      "Last week, he told us she’s dumped him. I went on her fb page as we’re all still friends (she wrote us an apology letter about how she’s upset it didn’t work out but these things happen, so we’re on good terms) and looks like she’s with a new guy already. Me and my wife have no doubt she was seeing him whilst still in a relationship with my son. \n",
      "\n",
      "I confessed to them both that I actually agree with her decision and he should have expected it. He did not treat her properly and I hope he learns lessons for the next one because he needs to make more of an effort. I said he deserves it for his lack of effort in the relationship and for essentially just allowing this girl to spend all her money and time coming here all the time. \n",
      "\n",
      "Wife and son are very upset that I said this. Very very upset and my wife says I am being horrible. \n",
      "\n",
      "AITA? I stand by what I said.\n",
      "######\n",
      "M\n",
      "AITA for sleeping naked on top of the covers to teach my flatmate's gf a lesson?\n",
      "New to reddit, please bare with. \n",
      "\n",
      "So I (21, guy) live with my childhood best friend (22, also a guy) and have done for 2 years now. Up until last week, things were perfect between us. \n",
      "\n",
      "However, he recently got a new girlfriend (23, lady) and she honestly seems absolutely great except for one thing; she seemingly has a complete aversion to knocking. She and I have quite a lot in common, and I actually like spending time with her. However it bugs the hell out of me when she just barges into my room without knocking first. Now, she's never walked in on me doing anything untoward; I'm usually just chilling on my bed or studying at my desk. However, on at least seven seperate occasions now she's done it first thing in the morning to ask if I want coffee. I sleep naked. Every time prior to the last one, I've been under the covers and she hasn't seen anything. I always point out that she *could* have and she just giggles and says \"but I didn't\". \n",
      "\n",
      "When she stayed over last week, in order to make my point, I intentionally slept on top of the covers. Sure enough, she barges in at 7AM, begins to ask if I want coffee and sees my you-know-what. She immediately backed out of the room and didn't speak to me for the rest of the day. My mate later pulled me aside and said I was bang out of order, accused me of deliberately exposing myself and pointed out that I'd \"threatened\" to do it before (I literally just said \"okay but what if I had no covers and you saw everything\" before). They're now framing this to others that I'm some sick creep who intentionally got naked and lay in wait of her because that's how I get my rocks off, and I'm kinda seeing how it came off that way. AITA for doing this?\n",
      "######\n",
      "0\n",
      "AITA for despising my mentally handicap sister?\n",
      "The title makes me sound horrible but hear me out.\n",
      "\n",
      "&#x200B;\n",
      "\n",
      "My sister is severely autistic. She requires attention almost 24/7 and cannot be left alone. She is non-verbal and cannot take care of herself at all. Despite the fact that she is only 12 she is extremely destructive and violent and destroys anything she gets her hands on.\n",
      "\n",
      "&#x200B;\n",
      "\n",
      "I hate her. That should be wrong to say but it doesn't feel like it.\n",
      "\n",
      "&#x200B;\n",
      "\n",
      "I was only 6 years old when she was born and since then i've never solely had my parents attention. Even since I can remember the world has revolved around her. I was moved out of my room into the basement at 7 because she needed to be in the room next to my parents. All of my toys as a child were destroyed by her and my parents simply ignored me when I complained. Even when I was 14 and she destroyed a mac my school gave me I was in the wrong.\n",
      "\n",
      "&#x200B;\n",
      "\n",
      "Along with this I am expected to take care of her and drop everything I do for her. I can never make plans with friend because my parents \"expect\" me to be there if they need me to take care of her. Even when I do somehow get time to myself I am required to leave if they need me. If i do not then I am punished. The recent example of this is when I went to see the new spider man movie, and was \"grounded\" because i turned my phone off in the theater.\n",
      "\n",
      "&#x200B;\n",
      "\n",
      "It seems as if I am nothing more than a slave to them and anything involving her simply overshadows me. This last week I was chosen to give a speech at a school event. I was so exited and my parents promised to be there, but they never showed and claimed it was because of my sister. Anytime anything like this happens for me they are to busy with her.\n",
      "\n",
      "&#x200B;\n",
      "\n",
      "I've held this in for so long and it finally spilled out today. While talking about colleges with my father, he joked that I should get a degree that pays well so when their gone I can take care of my sister. I don't know why but this caused me to break down. I cried and screamed about how it always about her. I'm nothing more than a caretaker to them, that they always make it about her and that I'm expected to be her \"slave\" for the rest of my life.\n",
      "\n",
      "&#x200B;\n",
      "\n",
      "I've locked myself in my room since then and my parents have not come to check on me. Am i the asshole here?\n",
      "\n",
      "&#x200B;\n",
      "\n",
      "Edit/Update kinda:\n",
      "\n",
      "Wow, thank you for all the support and love that you guys have given me. I never expected this post to reach the popularity it did. Thank you all. After thinking about it for these past hours, you are right that I don't despise my sister. It's not her fault that she was born the way she is. My parents came to talk to me a while after my break down but I was unable to bring myself to talk to them and only cried and asked them to leave. They have made arrangements with my grandfather for me to stay with him for the time being and am getting ready to go to his house. My parents want to talk to me but we have decided it's best I leave for now to have some space and time to collect myself. we will be sitting down and talking later this week about this issue. Thank you all again for the love and support through this <3\n",
      "\n",
      "&#x200B;\n",
      "\n",
      "I'll send an update your guy's way later this week if people are interested. \n",
      "######\n",
      "0\n",
      "UPDATE AITA for not sharing my medical history before being pranked?\n",
      " Link to original post-  [https://www.reddit.com/r/AmItheAsshole/comments/gflupe/aita\\_for\\_not\\_sharing\\_medical\\_history\\_before\\_being/](https://www.reddit.com/r/AmItheAsshole/comments/gflupe/aita_for_not_sharing_medical_history_before_being/) \n",
      "\n",
      "Heyo! I had a few folks message me over the last couple of months, the latest tonight. I touches me that so many of you still message me to see if things are going well, so I wanted to update people en masse.\n",
      "\n",
      "Life is going phenomenally. I axed the friend group, and have since been kicking butt. I realized that if my close friend group was consistently putting me down or taking advantage of me, who else could be. The biggest answer was myself. I stopped doing things I enjoyed to invest in people that took joy in hurting me (Turns out it went so much deeper than gas lighting).\n",
      "\n",
      "I got two new hobbies, wood working and brewing. I absolutely love them both, and have made friends in those communities. I started cooking instead of take out and I met the woman who is now my girlfriend at the local market and we do most things together now. I realized my job had been taking a huge advantage over me. I worked significantly harder and longer hours for less pay than the employees under me.\n",
      "\n",
      "After I transitioned to taking better care of myself I successfully created a resume that outlined my successes (Recognizing those successes took quite a bit of effort!) and got a new job in higher management for significantly more pay. I'm also going to buy a house this December with a yard for my dog and I. Nothing big, just a nice one bedroom with a large yard for my buddy and I to play fetch in.\n",
      "\n",
      "So thanks Reddit. Owe you one. Never would have made life improvement if it weren't for an external force.\n",
      "######\n",
      "M\n",
      "AITA for telling my girlfriend to shut the fuck up after she insulted my sisters thighs?\n",
      "I’m 30 and my 12 year old sister is living with me right now because mom and pops are vulnerable so it made more sense for me to care for my sis for the time being. \n",
      "\n",
      "She is a really great kid and tbh I feel in a lot of ways like she’s my own kid because my mom and dad don’t speak English so I kind of had to raise my sis in ways that they couldn’t. Hard to explain but I’m sure anyone with a secondary culture will get what I mean- my mom and dad are great parents but having an English speaking person to guide you through shit when you live in an English speaking country is invaluable imo and my sister trusts me with stuff she won’t necessarily trust my parents with. \n",
      "\n",
      "Anyway my girlfriend was FaceTiming me and my sister walked past in shorts and a t shirt cuz it’s hot. My ~~sister~~ gf waited til my sister had left the area ( but not the room) and made a face and said ‘maybe feed her less OP, her thighs are kinda chunky’ \n",
      "\n",
      "I saw red and told her to shut the fuck up (just came out my mouth) and immediately ended the call. My sister is a bit chubby but ffs who says stuff like that about a 12 year old girl. \n",
      "\n",
      "Literally. Everybody. I. Know. Has been texting me that I’m a POS boyfriend and that how can I disrespect my gf like that. I am expecting an apology from HER but to my shock everybody is expecting ME to apologize. \n",
      "\n",
      "So Reddit, AITA?\n",
      "######\n",
      "0\n",
      "AITA - Telling my parents to pay me back my college tuition if they want a relationship\n",
      "I was raised by parents who believed (religiously and just culturally) in rigid gender roles. Dad should work, mom should stay home with the kids. I’m the only girl and have 3 brothers. \n",
      "\n",
      "Because of their expectation I’d stay home with kids, they never valued my education, educational achievements or emphasized things beyond domestic skills. I’m the second youngest. By the time I was in high school, my two older brothers had gone to the college of their choice, with my parents fully covering tuition, books, an off campus apartment and other living expenses. They eventually did the same for my younger brother. I was told I wasn’t allowed to apply for college.\n",
      "\n",
      "I did so in secret and got accepted with a partial scholarship. I didn’t tell them I was moving out until a week before I left, with essentially nothing but what a few friends gave to me that their parents bought “them” for college. I took engineering, and had to work, take on debt and struggle.\n",
      "\n",
      "My parents and I have barely spoken for years. I’m married now and expecting our first child, and they asked to meet up. We met at a park, and they said they were “sorry if they caused me pain” but would like a relationship now. I asked them specifically what they were sorry for. They wouldn’t elaborate and just said they wanted to move forward. I said that wasn’t sufficient. In the end, I said they could prove they were sorry by forwarding me the $100k my degree and college expenses were, just like they did for my brothers. My mom burst into tears, my dad said I wasn’t being serious and I just left. Since then, I’ve been getting calls from my brothers telling me I’m being immature and hurtful. I don’t think so at all.\n",
      "######\n",
      "M\n",
      "AITA for giving my ex wife a large amount of money I won despite the anger of my gf?\n",
      "I recently won a ‘fuck you’ amount of money. I won’t say exactly how much but it’s in the millions. It makes me feel funny even typing It’s enough to change the life of myself and my family. \n",
      "\n",
      "My ex wife is the mother of my 2 kids. She is an amazing woman and good to the bone. We divorced 6 years ago because I had an affair with my current partner. I was in a low place in my life and I fucked up. She was in incredible pain but - like a fucking saint- she allowed me to still see our kids who mean the world to me, allowed our divorce to be as pain free as possible despite the fact that I know she was hurting. She still is close with my parents. She is respectful to me although she refuses to talk to my gf. \n",
      "\n",
      "She was actually the first person I phoned after my mom and pops after I found out I won the lottery. She was pleased for me, joked that I could take the kids on a world round trip, and that was that. Nothing else. as soon as I won, I knew I wanted to give her a significant amount. I still love her. She’s the mother of my babies and I feel like this is some small tiny way I can show her that I’m not a complete fuck up. She deserves to know that I care despite my mistakes. She also works a shitty job in the public library which pays her peanuts- she would actually be able to pursue her hobbies this way. Give our kids a better life between us. I haven’t discussed this with my ex yet, but I have with my parents who strongly agree and my lawyer who was very surprised but on board. \n",
      "\n",
      "Long story short, when I told my gf, she was my livid. Screaming that I’m disrespecting her, accusing me of still being in love with my ex wife- I’m not *in* love with her. We’ve both grown apart, but of course I still *love* her for being an excellent co parenting partner and mother to my kids. My gf is threatening to break up with me, and tbh I’m feeling incredibly relieved over the threats. I don’t plan on changing my plans, but AITA?\n",
      "\n",
      "######\n",
      "0\n",
      "AITA for switching to regular milk to prove my lactose intolerant roommate keeps stealing from me?\n",
      "Me and 2 other guys share an apartment together and we split all the bills. The only thing we don’t split costs on is groceries. Everyone’s in charge of buying their own food and we don’t touch whatever doesn’t belong to us in the fridge. We put our names on everything so no one gets mixed up. \n",
      "\n",
      "This issue has been going on almost a year and I’m sick of it. \n",
      "\n",
      "One of my roommates, R, keeps stealing my food. I get home from work and containers with my leftovers are sometimes missing (they have my name written on it), or my stuff finishes too quick. My gallon of milk for example. I buy almond milk because I like the taste. But it seems to finish after a week even though I’ve only drank once or twice. \n",
      "\n",
      "I confronted R about this lots of times and that’s caused a lot of arguments. He outright denies it and tells me I’m crazy even though it’s so obvious. \n",
      "\n",
      "My other roommate and I carpool together because we both work the same early morning shifts around the same area so I know it’s not him. It’s always after we get back home and R’s already left for work that I notice my food’s gone. My roommate’s also had a similar problem but not as often as I do. I’m guessing cause R doesn’t like what he buys.\n",
      "\n",
      "The funny thing is R buys a lot for himself and is even more stingy about his food. He will literally point out what’s his when he comes back from grocery shopping and tells us not to touch it.\n",
      "\n",
      "Last week, my milk was nearly empty again and I got fed up. I went to the liquor store and bought regular dairy milk. I drank what was left of my almond milk and refilled the gallon with the one I bought. This was to catch/prove R is the one stealing since he’s lactose intolerant. \n",
      "\n",
      "The nxt day, Saturday, we get back from work and R is pissed. He yelled at me that he was stuck in the bathroom for 40 mins with diarrhea because of my milk; he was using it to make a shake. I only responded with “So then you’re the one who’s been stealing?” \n",
      "\n",
      "He freaking exploded. Yeah he admitted he was “sometimes” drinking my milk and eating my food but he was more mad that I switched milks than the fact that he was caught. I told him I wouldn’t have done that if he’d just stopped taking my stuff from the fridge or at least told the truth instead of tryna make it seem like I was making it up.\n",
      "\n",
      "My roommate backed me up and thought it was kinda funny he got payback for stealing from us. It’s a little tense rn and my roommate told me R is trying to convince him to agree to kick me out. Little does he know we’re both looking to move somewhere else together cause we are sick of his shit.  \n",
      "\n",
      "I told some buddies what happened and a few think I was an asshole for that. I feel like I’m not in the wrong here. He was taking my food and not even owning up to it and I wanted to prove it, does that make me TA?\n",
      "######\n",
      "F\n",
      "AITA for telling the girl who kissed my boyfriend for a play that she is desperate and pathetic?\n",
      "I (19f) study drama at uni, and my boyfriend is on the same course. My boyfriend is a really good-looking guy, but he doesn't seem to know it. He gets a lot of attention from girls and for the most part, doesn't seem to get that they're flirting with him. I'm not generally annoyed by this, and never really say anything.\n",
      "\n",
      "However, there's one girl in our class, let's call her Victoria, who is obsessed with my boyfriend. She goes out of her way to be paired with him in group activities (for example, if the professor picks groups by numbering us 1, 2, 3, she will move herself to be in the same number as him) and she recently stepped down from a main role in a play we're doing so she could be in a more minor one, simply because this character has a romance with my boyfriend. I know this is the case, because I've heard her say to her friends that she thinks he's hot and what not.\n",
      "\n",
      "I've never said anything to her about it, because she seems pretty insecure (always complaining about how she thinks she's ugly) and I don't see it as a big deal because my boyfriend doesn't care. However, we recently performed the play and had a small afterparty where she got slightly drunk and was bragging about how she 'definitely felt something' when they kissed in the play and she's 'going to ask him if he felt the same'. I rolled my eyes and again ignored it, until she actually went up to my boyfriend. She was a little bit drunk, and when she went up to him I was there too.\n",
      "\n",
      "Victoria started saying that she knows he must have felt a spark, he's a really good kisser, etc. I snapped, and sort of shouted at her that 'you sound incredibly desperate, going after somebody else's boyfriend. You're pathetic if you think a stage kiss means you should be together.'\n",
      "\n",
      "She looked super embarrassed and walked away, and I later heard she'd gone home crying. I feel like a dick because she's obviously insecure and whatnot, and her friends haven't stopped calling me a bitch since. AITA?\n",
      "\n",
      "Edit: She 100% knows that I am his girlfriend, I have heard her talking about me being his girlfriend before.\n",
      "######\n",
      "0\n",
      "AITA for jumping out of a bathroom window to avoid my mom’s attempt at forcing a reunion between me and my ex fiancé?\n",
      "Some backstory: I had been dating my ex fiancé Sarah for four years. We had been planning to get married in November 2020 but I found out at the start of this month that she cheated on me. She begged me to give her another chance but I broke it off. \n",
      "\n",
      "\n",
      "The problem was that being cheated on is, in my mind, completely emasculating and humiliating. So I never told anyone that was the reason we broke up. For obvious reasons, Sarah also didn’t tell people we broke up because she cheated. So people have “blamed” me for the breakup, including my mom. They just see that I dumped her out of the blue. \n",
      "\n",
      "\n",
      "I’ve gone very strict no contact with Sarah after I discovered she was cheating on me. Sarah has been talking with my mom and has convinced her that if we could talk one more time, we would be able to reconcile. My mom has been applying hard core pressure on me to talk with Sarah but I’ve explained that there’s no chance we will ever get back together. \n",
      "\n",
      "\n",
      "So tonight I go over to my mom’s place because she’s hosting family for Christmas Eve. I’m there for a bit talking with my aunts and uncles and cousins when the doorbell rings and I can see it’s Sarah. I ask wtf is going on and my mom says she invited Sarah so we can work this out in the spirit of the holidays. \n",
      "\n",
      "\n",
      "I’m pissed now because the only way to explain my side of the story is to tell everyone I was cheated on. Complete humiliation in front of my whole family. So as my mom goes to the front door, I go into the bathroom. My mom starts knocking on the door saying that I need to come out and talk to my ex like an adult. I say fuck it, kick out the window screen and get in my car and go home. \n",
      "\n",
      "\n",
      "My mom called a short while ago saying she’s cutting ties with me over my behavior (she’s really fixated on me jumping out of a window) and that Sarah will always be like a child to her. My sister called me after to ream me out for ruining Christmas. I broke down and told her that Sarah cheated on me which is why I dumped her and didn’t want to see her under any circumstances. She called me a big asshole who was lying to cover for myself.  Am I really in the wrong?\n",
      "######\n",
      "0\n",
      "UPDATE: A month ago I was told I WBTA for not telling a date about my plans to be a single mother, so I told him\n",
      "Original post: [https://www.reddit.com/r/AmItheAsshole/comments/h7k8dj/wibta\\_by\\_not\\_telling\\_a\\_guy\\_ive\\_been\\_dating\\_for\\_a/](https://www.reddit.com/r/AmItheAsshole/comments/h7k8dj/wibta_by_not_telling_a_guy_ive_been_dating_for_a/)\n",
      "\n",
      "A month ago I asked if I WBTA for not telling a guy I had only started dating that I had plans to become a single mother. I was scared I'd lose him but also felt I would be deceiving him by not telling him, thus making the investment in our relationship unfair. The comments were pretty much unanimous in that I'm an asshole, and I needed to tell him, and this validated my decision to go forth and be honest, as nervous as I was.\n",
      "\n",
      "I explained my situation about taking 2 yrs to come to this decision, how my fertility clinic had shut due to Covid which was why I had gone back onto dating apps. I explained how my clinic had reopened after meeting him, and how important it was to me to continue in my journey to become a mother. I knew this was 'baggage' he hadn't expected and that there was every chance he would step away from the situation. Well, he didn't.\n",
      "\n",
      "We're now in a committed relationship and he's been supporting me in my journey. I've had 2 unsuccessful artificial inseminations with donor sperm (my original plan), and we've spoken about having a child together. As early on as it may seem, he told me my honesty made him consider his own future and how he really wants a family some day, and how he has admiration for me being honest about my situation and how he wants to help my fulfil my desires to be a mother, whether with him or with donor sperm - either way he wants to be a part of my life.\n",
      "\n",
      "I wanted to provide this update as a positive outcome has come out of being labelled an asshole and it pushed me to do the right thing, which has in turn meant I have the most understanding and accepting bf. Had I kept this info from him it would have played on my conscience, as well as most likely have caused him to not trust me. So thank you : )  \n",
      "\n",
      "\n",
      "EDIT - Gosh, I didn't think this post would blow up in this way. Thanks for the lovely words of support, and also those of you taking the time to provide food for thought of co-parenting and step-parenting. This is new territory for me, and I don't know anyone else in my day to day life who has been in this situation, so it's so valuable for me to hear your views and gain new perspectives. Thank you, kind Reddit community.\n",
      "######\n"
     ]
    }
   ],
   "source": [
    "for i in range(25):\n",
    "    print(df.Gender[i])\n",
    "    print(df.title[i])\n",
    "    print(df.body[i])\n",
    "    print('######')\n",
    "    \n",
    "#The Gender assignments look fairly accurate"
   ]
  },
  {
   "cell_type": "code",
   "execution_count": 27,
   "metadata": {},
   "outputs": [],
   "source": [
    "import pickle\n",
    "\n",
    "with open('reddit_data.pickle', 'wb') as f:\n",
    "    pickle.dump(df, f, pickle.HIGHEST_PROTOCOL)"
   ]
  },
  {
   "cell_type": "code",
   "execution_count": 29,
   "metadata": {},
   "outputs": [],
   "source": [
    "from praw.models import MoreComments\n",
    "\n",
    "df2=df[df.Gender!=0]\n",
    "\n",
    "#Scrape the data\n",
    "\n",
    "#Create a dataframe of responses to the original posts\n",
    "\n",
    "Responses=[]\n",
    "\n",
    "for idx in df.index:\n",
    "    code=df.code[idx]\n",
    "    submission=reddit.submission(id=code)\n",
    "    submission.comment_sort='best'\n",
    "    submission.comment_limit=10\n",
    "    for comment in submission.comments:\n",
    "        if isinstance(comment, MoreComments): continue\n",
    "        elif comment.stickied: continue\n",
    "        elif comment.body=='[deleted]': continue\n",
    "        elif comment.body=='[removed]': continue\n",
    "        else:\n",
    "            Responses.append((code,comment.body,df.Gender[idx]))\n",
    "            \n"
   ]
  },
  {
   "cell_type": "code",
   "execution_count": 45,
   "metadata": {},
   "outputs": [
    {
     "name": "stdout",
     "output_type": "stream",
     "text": [
      "0.6138219895287959\n"
     ]
    }
   ],
   "source": [
    "Response_df=pd.DataFrame(Responses,columns=['Code','Response','Gender'])\n",
    "\n",
    "with open('response_data.pickle', 'wb') as f:\n",
    "    pickle.dump(Response_df, f, pickle.HIGHEST_PROTOCOL)\n",
    "\n",
    "Response_df.head()\n",
    "\n",
    "Response_df.Gender.value_counts()\n",
    "\n",
    "print(2931/(2931+1844))\n",
    "\n",
    "#Why are women getting so many more responses? Must get rid of some female responders to counterbalance"
   ]
  },
  {
   "cell_type": "code",
   "execution_count": 47,
   "metadata": {},
   "outputs": [
    {
     "data": {
      "text/html": [
       "<div>\n",
       "<style scoped>\n",
       "    .dataframe tbody tr th:only-of-type {\n",
       "        vertical-align: middle;\n",
       "    }\n",
       "\n",
       "    .dataframe tbody tr th {\n",
       "        vertical-align: top;\n",
       "    }\n",
       "\n",
       "    .dataframe thead th {\n",
       "        text-align: right;\n",
       "    }\n",
       "</style>\n",
       "<table border=\"1\" class=\"dataframe\">\n",
       "  <thead>\n",
       "    <tr style=\"text-align: right;\">\n",
       "      <th></th>\n",
       "      <th>Code</th>\n",
       "      <th>Response</th>\n",
       "      <th>Gender</th>\n",
       "    </tr>\n",
       "  </thead>\n",
       "  <tbody>\n",
       "    <tr>\n",
       "      <th>5814</th>\n",
       "      <td>f036gj</td>\n",
       "      <td>&gt; 8 years not wasted only lessons learned. On ...</td>\n",
       "      <td>F</td>\n",
       "    </tr>\n",
       "    <tr>\n",
       "      <th>6901</th>\n",
       "      <td>3fb3v5</td>\n",
       "      <td>Life lesson learned the hard way.  For now all...</td>\n",
       "      <td>F</td>\n",
       "    </tr>\n",
       "    <tr>\n",
       "      <th>5440</th>\n",
       "      <td>52dyiw</td>\n",
       "      <td>Man, no advice, but I am just seriously shocke...</td>\n",
       "      <td>F</td>\n",
       "    </tr>\n",
       "    <tr>\n",
       "      <th>6176</th>\n",
       "      <td>91tpz8</td>\n",
       "      <td>I love people who have opposing styles or appr...</td>\n",
       "      <td>F</td>\n",
       "    </tr>\n",
       "    <tr>\n",
       "      <th>7004</th>\n",
       "      <td>4q9fln</td>\n",
       "      <td>This is highly disconcerting. Your boyfriend d...</td>\n",
       "      <td>F</td>\n",
       "    </tr>\n",
       "  </tbody>\n",
       "</table>\n",
       "</div>"
      ],
      "text/plain": [
       "        Code                                           Response Gender\n",
       "5814  f036gj  > 8 years not wasted only lessons learned. On ...      F\n",
       "6901  3fb3v5  Life lesson learned the hard way.  For now all...      F\n",
       "5440  52dyiw  Man, no advice, but I am just seriously shocke...      F\n",
       "6176  91tpz8  I love people who have opposing styles or appr...      F\n",
       "7004  4q9fln  This is highly disconcerting. Your boyfriend d...      F"
      ]
     },
     "execution_count": 47,
     "metadata": {},
     "output_type": "execute_result"
    }
   ],
   "source": [
    "Response_df_F=Response_df[Response_df.Gender==\"F\"]\n",
    "Response_df_M=Response_df[Response_df.Gender==\"M\"]\n",
    "\n",
    "Response_df_F=Response_df_F.sample(1844)\n",
    "\n",
    "Resampled_df=pd.concat([Response_df_F,Response_df_M],axis=0)\n",
    "Resampled_df.head()"
   ]
  },
  {
   "cell_type": "code",
   "execution_count": 48,
   "metadata": {},
   "outputs": [
    {
     "data": {
      "text/plain": [
       "F    1844\n",
       "M    1844\n",
       "Name: Gender, dtype: int64"
      ]
     },
     "execution_count": 48,
     "metadata": {},
     "output_type": "execute_result"
    }
   ],
   "source": [
    "Resampled_df.Gender.value_counts()"
   ]
  },
  {
   "cell_type": "code",
   "execution_count": 52,
   "metadata": {},
   "outputs": [
    {
     "data": {
      "text/plain": [
       "0"
      ]
     },
     "execution_count": 52,
     "metadata": {},
     "output_type": "execute_result"
    }
   ],
   "source": [
    "sum(Resampled_df.Response.value_counts()!=1) # we good"
   ]
  },
  {
   "cell_type": "code",
   "execution_count": 53,
   "metadata": {},
   "outputs": [
    {
     "data": {
      "text/html": [
       "<div>\n",
       "<style scoped>\n",
       "    .dataframe tbody tr th:only-of-type {\n",
       "        vertical-align: middle;\n",
       "    }\n",
       "\n",
       "    .dataframe tbody tr th {\n",
       "        vertical-align: top;\n",
       "    }\n",
       "\n",
       "    .dataframe thead th {\n",
       "        text-align: right;\n",
       "    }\n",
       "</style>\n",
       "<table border=\"1\" class=\"dataframe\">\n",
       "  <thead>\n",
       "    <tr style=\"text-align: right;\">\n",
       "      <th></th>\n",
       "      <th>Code</th>\n",
       "      <th>Response</th>\n",
       "      <th>Gender</th>\n",
       "      <th>Length</th>\n",
       "    </tr>\n",
       "  </thead>\n",
       "  <tbody>\n",
       "    <tr>\n",
       "      <th>5814</th>\n",
       "      <td>f036gj</td>\n",
       "      <td>&gt; 8 years not wasted only lessons learned. On ...</td>\n",
       "      <td>F</td>\n",
       "      <td>44</td>\n",
       "    </tr>\n",
       "    <tr>\n",
       "      <th>6901</th>\n",
       "      <td>3fb3v5</td>\n",
       "      <td>Life lesson learned the hard way.  For now all...</td>\n",
       "      <td>F</td>\n",
       "      <td>132</td>\n",
       "    </tr>\n",
       "    <tr>\n",
       "      <th>5440</th>\n",
       "      <td>52dyiw</td>\n",
       "      <td>Man, no advice, but I am just seriously shocke...</td>\n",
       "      <td>F</td>\n",
       "      <td>31</td>\n",
       "    </tr>\n",
       "    <tr>\n",
       "      <th>6176</th>\n",
       "      <td>91tpz8</td>\n",
       "      <td>I love people who have opposing styles or appr...</td>\n",
       "      <td>F</td>\n",
       "      <td>64</td>\n",
       "    </tr>\n",
       "    <tr>\n",
       "      <th>7004</th>\n",
       "      <td>4q9fln</td>\n",
       "      <td>This is highly disconcerting. Your boyfriend d...</td>\n",
       "      <td>F</td>\n",
       "      <td>90</td>\n",
       "    </tr>\n",
       "  </tbody>\n",
       "</table>\n",
       "</div>"
      ],
      "text/plain": [
       "        Code                                           Response Gender  Length\n",
       "5814  f036gj  > 8 years not wasted only lessons learned. On ...      F      44\n",
       "6901  3fb3v5  Life lesson learned the hard way.  For now all...      F     132\n",
       "5440  52dyiw  Man, no advice, but I am just seriously shocke...      F      31\n",
       "6176  91tpz8  I love people who have opposing styles or appr...      F      64\n",
       "7004  4q9fln  This is highly disconcerting. Your boyfriend d...      F      90"
      ]
     },
     "execution_count": 53,
     "metadata": {},
     "output_type": "execute_result"
    }
   ],
   "source": [
    "def word_count(text):\n",
    "    return len(text.split())\n",
    "\n",
    "Resampled_df['Length']=list(map(word_count,Resampled_df.Response))\n",
    "Resampled_df.head()"
   ]
  },
  {
   "cell_type": "code",
   "execution_count": 75,
   "metadata": {},
   "outputs": [
    {
     "data": {
      "text/html": [
       "<div>\n",
       "<style scoped>\n",
       "    .dataframe tbody tr th:only-of-type {\n",
       "        vertical-align: middle;\n",
       "    }\n",
       "\n",
       "    .dataframe tbody tr th {\n",
       "        vertical-align: top;\n",
       "    }\n",
       "\n",
       "    .dataframe thead th {\n",
       "        text-align: right;\n",
       "    }\n",
       "</style>\n",
       "<table border=\"1\" class=\"dataframe\">\n",
       "  <thead>\n",
       "    <tr style=\"text-align: right;\">\n",
       "      <th></th>\n",
       "      <th>Length</th>\n",
       "    </tr>\n",
       "  </thead>\n",
       "  <tbody>\n",
       "    <tr>\n",
       "      <th>count</th>\n",
       "      <td>3688.000000</td>\n",
       "    </tr>\n",
       "    <tr>\n",
       "      <th>mean</th>\n",
       "      <td>76.254881</td>\n",
       "    </tr>\n",
       "    <tr>\n",
       "      <th>std</th>\n",
       "      <td>87.604912</td>\n",
       "    </tr>\n",
       "    <tr>\n",
       "      <th>min</th>\n",
       "      <td>1.000000</td>\n",
       "    </tr>\n",
       "    <tr>\n",
       "      <th>25%</th>\n",
       "      <td>25.000000</td>\n",
       "    </tr>\n",
       "    <tr>\n",
       "      <th>50%</th>\n",
       "      <td>51.000000</td>\n",
       "    </tr>\n",
       "    <tr>\n",
       "      <th>75%</th>\n",
       "      <td>95.000000</td>\n",
       "    </tr>\n",
       "    <tr>\n",
       "      <th>max</th>\n",
       "      <td>1232.000000</td>\n",
       "    </tr>\n",
       "  </tbody>\n",
       "</table>\n",
       "</div>"
      ],
      "text/plain": [
       "            Length\n",
       "count  3688.000000\n",
       "mean     76.254881\n",
       "std      87.604912\n",
       "min       1.000000\n",
       "25%      25.000000\n",
       "50%      51.000000\n",
       "75%      95.000000\n",
       "max    1232.000000"
      ]
     },
     "execution_count": 75,
     "metadata": {},
     "output_type": "execute_result"
    }
   ],
   "source": [
    "Resampled_df.describe()"
   ]
  },
  {
   "cell_type": "code",
   "execution_count": 171,
   "metadata": {},
   "outputs": [
    {
     "name": "stdout",
     "output_type": "stream",
     "text": [
      "Gender Mean St dev\n",
      "Male:  79.17299349240781 93.51184519919086\n",
      "Female:  73.33676789587852 81.13928420961122\n",
      "Ttest_indResult(statistic=2.023724100602524, pvalue=0.04307055933136732)\n"
     ]
    },
    {
     "name": "stderr",
     "output_type": "stream",
     "text": [
      "C:\\Users\\dkond\\Anaconda3\\lib\\site-packages\\scipy\\stats\\stats.py:1713: FutureWarning: Using a non-tuple sequence for multidimensional indexing is deprecated; use `arr[tuple(seq)]` instead of `arr[seq]`. In the future this will be interpreted as an array index, `arr[np.array(seq)]`, which will result either in an error or a different result.\n",
      "  return np.add.reduce(sorted[indexer] * weights, axis=axis) / sumval\n",
      "C:\\Users\\dkond\\Anaconda3\\lib\\site-packages\\matplotlib\\axes\\_axes.py:6462: UserWarning: The 'normed' kwarg is deprecated, and has been replaced by the 'density' kwarg.\n",
      "  warnings.warn(\"The 'normed' kwarg is deprecated, and has been \"\n",
      "C:\\Users\\dkond\\Anaconda3\\lib\\site-packages\\matplotlib\\axes\\_axes.py:6462: UserWarning: The 'normed' kwarg is deprecated, and has been replaced by the 'density' kwarg.\n",
      "  warnings.warn(\"The 'normed' kwarg is deprecated, and has been \"\n"
     ]
    },
    {
     "data": {
      "image/png": "[encoded data removed]",
      "text/plain": [
       "<Figure size 720x720 with 1 Axes>"
      ]
     },
     "metadata": {},
     "output_type": "display_data"
    }
   ],
   "source": [
    "import scipy.stats as st \n",
    "\n",
    "M_Length=Resampled_df[Resampled_df.Gender=='M'].Length\n",
    "F_Length=Resampled_df[Resampled_df.Gender=='F'].Length\n",
    "\n",
    "print(\"Gender\",\"Mean\",\"St dev\")\n",
    "print(\"Male: \",np.mean(M_Length),np.std(M_Length))\n",
    "print(\"Female: \",np.mean(F_Length),np.std(F_Length))\n",
    "\n",
    "print(st.ttest_ind(M_Length,F_Length))\n",
    "\n",
    "\n",
    "plt.figure(figsize=(10,10))\n",
    "sns.distplot(M_Length,label=\"Length of response to Men\")\n",
    "sns.distplot(F_Length,label=\"Length of response to Women\")\n",
    "plt.legend()\n",
    "plt.show() \n",
    "\n",
    "#Men get significantly consistently more words in their \n",
    "#responses than women, even though they had fewer responders overall"
   ]
  },
  {
   "cell_type": "code",
   "execution_count": 85,
   "metadata": {
    "scrolled": false
   },
   "outputs": [
    {
     "data": {
      "text/plain": [
       "0.048264642082429504"
      ]
     },
     "execution_count": 85,
     "metadata": {},
     "output_type": "execute_result"
    }
   ],
   "source": [
    "sum(Resampled_df.Length<10)/(len(Resampled_df.index)) #Only 5% of responses have fewer than 10 words"
   ]
  },
  {
   "cell_type": "code",
   "execution_count": 98,
   "metadata": {},
   "outputs": [],
   "source": [
    "from nltk.corpus import stopwords\n",
    "import string\n",
    "import nltk\n",
    "\n",
    "stopwords_list = stopwords.words('english')\n",
    "\n",
    "stopwords_list += list(string.punctuation)\n",
    "\n",
    "stopwords_list+=[\"'\",'\"',\"'s\",\"n't\",'’','’',\"'re\",\"''\",'``',\"'m\"]\n",
    "\n"
   ]
  },
  {
   "cell_type": "code",
   "execution_count": 99,
   "metadata": {},
   "outputs": [
    {
     "data": {
      "text/html": [
       "<div>\n",
       "<style scoped>\n",
       "    .dataframe tbody tr th:only-of-type {\n",
       "        vertical-align: middle;\n",
       "    }\n",
       "\n",
       "    .dataframe tbody tr th {\n",
       "        vertical-align: top;\n",
       "    }\n",
       "\n",
       "    .dataframe thead th {\n",
       "        text-align: right;\n",
       "    }\n",
       "</style>\n",
       "<table border=\"1\" class=\"dataframe\">\n",
       "  <thead>\n",
       "    <tr style=\"text-align: right;\">\n",
       "      <th></th>\n",
       "      <th>Code</th>\n",
       "      <th>Response</th>\n",
       "      <th>Gender</th>\n",
       "      <th>Length</th>\n",
       "      <th>Cleaned</th>\n",
       "    </tr>\n",
       "  </thead>\n",
       "  <tbody>\n",
       "    <tr>\n",
       "      <th>5814</th>\n",
       "      <td>f036gj</td>\n",
       "      <td>&gt; 8 years not wasted only lessons learned. On ...</td>\n",
       "      <td>F</td>\n",
       "      <td>44</td>\n",
       "      <td>[8, years, wasted, lessons, learned, next, ste...</td>\n",
       "    </tr>\n",
       "    <tr>\n",
       "      <th>6901</th>\n",
       "      <td>3fb3v5</td>\n",
       "      <td>Life lesson learned the hard way.  For now all...</td>\n",
       "      <td>F</td>\n",
       "      <td>132</td>\n",
       "      <td>[life, lesson, learned, hard, way, really, fil...</td>\n",
       "    </tr>\n",
       "    <tr>\n",
       "      <th>5440</th>\n",
       "      <td>52dyiw</td>\n",
       "      <td>Man, no advice, but I am just seriously shocke...</td>\n",
       "      <td>F</td>\n",
       "      <td>31</td>\n",
       "      <td>[man, advice, seriously, shocked, ..., ..what,...</td>\n",
       "    </tr>\n",
       "    <tr>\n",
       "      <th>6176</th>\n",
       "      <td>91tpz8</td>\n",
       "      <td>I love people who have opposing styles or appr...</td>\n",
       "      <td>F</td>\n",
       "      <td>64</td>\n",
       "      <td>[love, people, opposing, styles, approaches, l...</td>\n",
       "    </tr>\n",
       "    <tr>\n",
       "      <th>7004</th>\n",
       "      <td>4q9fln</td>\n",
       "      <td>This is highly disconcerting. Your boyfriend d...</td>\n",
       "      <td>F</td>\n",
       "      <td>90</td>\n",
       "      <td>[highly, disconcerting, boyfriend, disrespecte...</td>\n",
       "    </tr>\n",
       "  </tbody>\n",
       "</table>\n",
       "</div>"
      ],
      "text/plain": [
       "        Code                                           Response Gender  \\\n",
       "5814  f036gj  > 8 years not wasted only lessons learned. On ...      F   \n",
       "6901  3fb3v5  Life lesson learned the hard way.  For now all...      F   \n",
       "5440  52dyiw  Man, no advice, but I am just seriously shocke...      F   \n",
       "6176  91tpz8  I love people who have opposing styles or appr...      F   \n",
       "7004  4q9fln  This is highly disconcerting. Your boyfriend d...      F   \n",
       "\n",
       "      Length                                            Cleaned  \n",
       "5814      44  [8, years, wasted, lessons, learned, next, ste...  \n",
       "6901     132  [life, lesson, learned, hard, way, really, fil...  \n",
       "5440      31  [man, advice, seriously, shocked, ..., ..what,...  \n",
       "6176      64  [love, people, opposing, styles, approaches, l...  \n",
       "7004      90  [highly, disconcerting, boyfriend, disrespecte...  "
      ]
     },
     "execution_count": 99,
     "metadata": {},
     "output_type": "execute_result"
    }
   ],
   "source": [
    "from nltk import word_tokenize\n",
    "\n",
    "def clean_text(article):\n",
    "    tokens = nltk.word_tokenize(article)\n",
    "    stopwords_removed = [token.lower() for token in tokens if token.lower() not in stopwords_list]\n",
    "    return stopwords_removed  \n",
    "\n",
    "Resampled_df['Cleaned']=list(map(clean_text,Resampled_df['Response']))\n",
    "Resampled_df.head()"
   ]
  },
  {
   "cell_type": "code",
   "execution_count": 111,
   "metadata": {},
   "outputs": [
    {
     "name": "stdout",
     "output_type": "stream",
     "text": [
      "8711 8550\n"
     ]
    }
   ],
   "source": [
    "vocab_M=set()\n",
    "vocab_F=set()\n",
    "for idx in Resampled_df.index:\n",
    "    if Resampled_df['Gender'][idx]==\"F\": vocab_F.update(Resampled_df['Cleaned'][idx])\n",
    "    elif Resampled_df['Gender'][idx]==\"M\": vocab_M.update(Resampled_df['Cleaned'][idx])\n",
    "\n",
    "print(len(vocab_M),len(vocab_F))\n",
    "\n",
    "vocab=vocab_M.union(vocab_F)\n"
   ]
  },
  {
   "cell_type": "code",
   "execution_count": 103,
   "metadata": {},
   "outputs": [
    {
     "name": "stdout",
     "output_type": "stream",
     "text": [
      "Male Female\n",
      "('like', 'like')\n",
      "('would', 'would')\n",
      "('get', 'get')\n",
      "('time', 'time')\n",
      "('nta', 'good')\n",
      "('wife', 'know')\n",
      "('good', 'think')\n",
      "('people', 'nta')\n",
      "('think', 'people')\n",
      "('know', 'going')\n",
      "('want', 'life')\n",
      "('one', 'make')\n",
      "('really', 'one')\n",
      "('make', 'even')\n",
      "('life', 'really')\n",
      "('even', 'relationship')\n",
      "('way', 'want')\n",
      "('could', 'right')\n",
      "('going', 'go')\n",
      "('family', 'need')\n"
     ]
    }
   ],
   "source": [
    "from nltk import FreqDist\n",
    "\n",
    "Text_M=[]\n",
    "Text_F=[]\n",
    "\n",
    "for idx in Resampled_df.index:\n",
    "    if Resampled_df['Gender'][idx]==\"F\": Text_F+=Resampled_df['Cleaned'][idx]\n",
    "    elif Resampled_df['Gender'][idx]==\"M\": Text_M+=Resampled_df['Cleaned'][idx]\n",
    "    \n",
    "FreqDist_M=FreqDist(Text_M)\n",
    "FreqDist_F=FreqDist(Text_F)\n",
    "\n",
    "print(\"Male\",\"Female\")\n",
    "for pair in zip([x[0] for x in FreqDist_M.most_common(20)],[x[0] for x in FreqDist_F.most_common(20)]):\n",
    "    print(pair) #Showing top 20 most common response words by gender"
   ]
  },
  {
   "cell_type": "code",
   "execution_count": 134,
   "metadata": {},
   "outputs": [],
   "source": [
    "from sklearn.feature_extraction.text import TfidfVectorizer\n",
    "from sklearn.model_selection import train_test_split\n",
    "vectorizer = TfidfVectorizer()\n",
    "\n",
    "X=Resampled_df.Response\n",
    "y=Resampled_df.Gender\n",
    "\n",
    "X_train,X_test,y_train,y_test=train_test_split(X,y)\n"
   ]
  },
  {
   "cell_type": "code",
   "execution_count": 160,
   "metadata": {},
   "outputs": [
    {
     "data": {
      "text/plain": [
       "MultinomialNB(alpha=1.0, class_prior=None, fit_prior=True)"
      ]
     },
     "execution_count": 160,
     "metadata": {},
     "output_type": "execute_result"
    }
   ],
   "source": [
    "from sklearn.naive_bayes import MultinomialNB\n",
    "\n",
    "tf_idf_data_train = vectorizer.fit_transform(X_train)\n",
    "tf_idf_data_test = vectorizer.transform(X_test)\n",
    "\n",
    "nb_classifier = MultinomialNB()\n",
    "\n",
    "nb_classifier.fit(tf_idf_data_train, y_train)"
   ]
  },
  {
   "cell_type": "code",
   "execution_count": 137,
   "metadata": {},
   "outputs": [],
   "source": [
    "nb_train_preds=nb_classifier.predict(tf_idf_data_train)\n",
    "nb_test_preds=nb_classifier.predict(tf_idf_data_test)"
   ]
  },
  {
   "cell_type": "code",
   "execution_count": 138,
   "metadata": {},
   "outputs": [
    {
     "name": "stdout",
     "output_type": "stream",
     "text": [
      "Training data statistics\n",
      "Precision Score: 0.9084604715672677\n",
      "Recall Score: 0.9317211948790897\n",
      "Accuracy Score: 0.9175704989154013\n",
      "F1 Score: 0.9199438202247191\n",
      "\n",
      "\n",
      "Testing data statistics\n",
      "Precision Score: 0.6321585903083701\n",
      "Recall Score: 0.6552511415525114\n",
      "Accuracy Score: 0.6550976138828634\n",
      "F1 Score: 0.6434977578475337\n"
     ]
    }
   ],
   "source": [
    "from sklearn.metrics import precision_score, recall_score, accuracy_score, f1_score\n",
    "\n",
    "#print metrics, assuming you are primarily interested in F as positive value\n",
    "\n",
    "def print_metrics_F(labels, preds):\n",
    "    print(\"Precision Score: {}\".format(precision_score(labels, preds,pos_label='F')))\n",
    "    print(\"Recall Score: {}\".format(recall_score(labels, preds,pos_label='F')))\n",
    "    print(\"Accuracy Score: {}\".format(accuracy_score(labels, preds)))\n",
    "    print(\"F1 Score: {}\".format(f1_score(labels, preds,pos_label='F')))\n",
    "\n",
    "\n",
    "\n",
    "print('Training data statistics')    \n",
    "print_metrics_F(y_train,nb_train_preds)\n",
    "print('\\n')\n",
    "\n",
    "print('Testing data statistics')    \n",
    "print_metrics_F(y_test,nb_test_preds)\n",
    "\n",
    "\n",
    "#Badly overfit, as one might expect from a naive bayes. Must use more robust algorithm"
   ]
  },
  {
   "cell_type": "code",
   "execution_count": 112,
   "metadata": {},
   "outputs": [
    {
     "data": {
      "text/plain": [
       "array([ 0.68492 ,  1.1074  , -1.1614  ,  0.59305 ,  0.87263 ,  1.345   ,\n",
       "       -0.35866 ,  0.31354 , -0.32724 ,  0.037544,  0.45139 ,  1.1202  ,\n",
       "       -1.0246  ,  0.080853,  0.23187 ,  0.52792 , -0.45237 , -0.19102 ,\n",
       "        1.3143  ,  0.39625 , -0.18012 ,  0.83779 , -0.087417,  0.17918 ,\n",
       "        0.48101 , -1.5134  ,  0.13865 ,  0.041323,  0.71106 ,  0.63148 ,\n",
       "        2.6942  , -0.23086 ,  0.21594 , -1.0126  , -0.21202 , -0.53851 ,\n",
       "       -1.4377  ,  0.39676 , -0.5705  , -0.56251 , -0.41471 , -0.57065 ,\n",
       "       -0.14418 ,  0.039087,  0.057349, -0.40809 ,  0.15393 , -0.088463,\n",
       "       -0.56327 ,  0.63382 ], dtype=float32)"
      ]
     },
     "execution_count": 112,
     "metadata": {},
     "output_type": "execute_result"
    }
   ],
   "source": [
    "#Use glove for hopefully better results\n",
    "glove = {}\n",
    "with open('glove.6B.50d.txt', 'rb') as f:\n",
    "    for line in f:\n",
    "        parts = line.split()\n",
    "        word = parts[0].decode('utf-8')\n",
    "        if word in vocab:\n",
    "            vector = np.array(parts[1:], dtype=np.float32)\n",
    "            glove[word] = vector\n",
    "glove['relationship']"
   ]
  },
  {
   "cell_type": "code",
   "execution_count": 113,
   "metadata": {},
   "outputs": [],
   "source": [
    "class W2vVectorizer(object):\n",
    "    \n",
    "    def __init__(self, w2v):\n",
    "        # Takes in a dictionary of words and vectors as input\n",
    "        self.w2v = w2v\n",
    "        if len(w2v) == 0:\n",
    "            self.dimensions = 0\n",
    "        else:\n",
    "            self.dimensions = len(w2v[next(iter(glove))])\n",
    "    \n",
    "    # Note: Even though it doesn't do anything, it's required that this object implement a fit method or else\n",
    "    # it can't be used in a scikit-learn pipeline  \n",
    "    def fit(self, X, y):\n",
    "        return self\n",
    "            \n",
    "    def transform(self, X):\n",
    "        return np.array([\n",
    "            np.mean([self.w2v[w] for w in words if w in self.w2v]\n",
    "                   or [np.zeros(self.dimensions)], axis=0) for words in X])"
   ]
  },
  {
   "cell_type": "code",
   "execution_count": 127,
   "metadata": {},
   "outputs": [],
   "source": [
    "from sklearn.ensemble import RandomForestClassifier\n",
    "from sklearn.svm import SVC\n",
    "from sklearn.linear_model import LogisticRegression\n",
    "from sklearn.pipeline import Pipeline\n",
    "from sklearn.model_selection import cross_val_score\n",
    "\n",
    "rf =  Pipeline([('Word2Vec Vectorizer', W2vVectorizer(glove)),\n",
    "              ('Random Forest', RandomForestClassifier(n_estimators=10, verbose=True))])\n",
    "svc = Pipeline([('Word2Vec Vectorizer', W2vVectorizer(glove)),\n",
    "                ('Support Vector Machine', SVC())])\n",
    "lr = Pipeline([('Word2Vec Vectorizer', W2vVectorizer(glove)),\n",
    "              ('Logistic Regression', LogisticRegression())])\n",
    "\n",
    "models = [('Random Forest', rf),\n",
    "          ('Support Vector Machine', svc),\n",
    "          ('Logistic Regression', lr)]"
   ]
  },
  {
   "cell_type": "code",
   "execution_count": 139,
   "metadata": {},
   "outputs": [
    {
     "name": "stderr",
     "output_type": "stream",
     "text": [
      "[Parallel(n_jobs=1)]: Done  10 out of  10 | elapsed:    0.1s finished\n",
      "[Parallel(n_jobs=1)]: Done  10 out of  10 | elapsed:    0.0s finished\n",
      "[Parallel(n_jobs=1)]: Done  10 out of  10 | elapsed:    0.1s finished\n",
      "[Parallel(n_jobs=1)]: Done  10 out of  10 | elapsed:    0.0s finished\n"
     ]
    }
   ],
   "source": [
    "# ⏰ This cell may take several minutes to run\n",
    "scores = [(name, cross_val_score(model, X_train.map(word_tokenize).values, y_train, cv=2).mean()) for name, model, in models]"
   ]
  },
  {
   "cell_type": "code",
   "execution_count": 140,
   "metadata": {},
   "outputs": [
    {
     "data": {
      "text/plain": [
       "[('Random Forest', 0.5137382501807665),\n",
       " ('Support Vector Machine', 0.5195227765726681),\n",
       " ('Logistic Regression', 0.5491684743311641)]"
      ]
     },
     "execution_count": 140,
     "metadata": {},
     "output_type": "execute_result"
    }
   ],
   "source": [
    "scores #strange, these robust methods are no better than random"
   ]
  },
  {
   "cell_type": "markdown",
   "metadata": {},
   "source": [
    "I believe that the higher score for the Naive Bayes was a fluke (and cannot be justified due to the huge disparity between the training and testing data). The fact that Random Forests, SVMs and Logistic Regressions built upon a sophisticated model like Glove give no better than random supports the hypothesis that Men and Women are treated equally (badly) by the internet.\n",
    "\n",
    "Note that this is only a statistical truth, and while some commenters may be more dismissive of men or of women, they seem to cancel out. However, the prevailing notion that the internet is more condescending to women may be explained by their far greater visibility in top scoring posts."
   ]
  },
  {
   "cell_type": "code",
   "execution_count": 146,
   "metadata": {},
   "outputs": [],
   "source": [
    "from nltk.sentiment.vader import SentimentIntensityAnalyzer\n",
    "\n",
    "sid = SentimentIntensityAnalyzer()\n",
    "\n",
    "Valences=[]\n",
    "\n",
    "for response in Resampled_df.Response:\n",
    "    Valences.append(sid.polarity_scores(response)['compound'])\n",
    "\n",
    "Resampled_df['Valence']=Valences"
   ]
  },
  {
   "cell_type": "code",
   "execution_count": 150,
   "metadata": {
    "scrolled": false
   },
   "outputs": [
    {
     "name": "stdout",
     "output_type": "stream",
     "text": [
      "0.23843470715835155 0.6519842915107366\n",
      "0.25761138828633434 0.6565401178491392\n",
      "Ttest_indResult(statistic=-0.8897472443197549, pvalue=0.37365968451707465)\n"
     ]
    },
    {
     "name": "stderr",
     "output_type": "stream",
     "text": [
      "C:\\Users\\dkond\\Anaconda3\\lib\\site-packages\\scipy\\stats\\stats.py:1713: FutureWarning: Using a non-tuple sequence for multidimensional indexing is deprecated; use `arr[tuple(seq)]` instead of `arr[seq]`. In the future this will be interpreted as an array index, `arr[np.array(seq)]`, which will result either in an error or a different result.\n",
      "  return np.add.reduce(sorted[indexer] * weights, axis=axis) / sumval\n",
      "C:\\Users\\dkond\\Anaconda3\\lib\\site-packages\\matplotlib\\axes\\_axes.py:6462: UserWarning: The 'normed' kwarg is deprecated, and has been replaced by the 'density' kwarg.\n",
      "  warnings.warn(\"The 'normed' kwarg is deprecated, and has been \"\n",
      "C:\\Users\\dkond\\Anaconda3\\lib\\site-packages\\matplotlib\\axes\\_axes.py:6462: UserWarning: The 'normed' kwarg is deprecated, and has been replaced by the 'density' kwarg.\n",
      "  warnings.warn(\"The 'normed' kwarg is deprecated, and has been \"\n"
     ]
    },
    {
     "data": {
      "image/png": "[encoded data removed]",
      "text/plain": [
       "<Figure size 720x720 with 1 Axes>"
      ]
     },
     "metadata": {},
     "output_type": "display_data"
    }
   ],
   "source": [
    "M_Valence=Resampled_df[Resampled_df.Gender=='M'].Valence\n",
    "F_Valence=Resampled_df[Resampled_df.Gender=='F'].Valence\n",
    "\n",
    "print(np.mean(M_Valence),np.std(M_Valence))\n",
    "print(np.mean(F_Valence),np.std(F_Valence))\n",
    "\n",
    "print(st.ttest_ind(M_Valence,F_Valence))\n",
    "\n",
    "\n",
    "plt.figure(figsize=(10,10))\n",
    "sns.distplot(M_Valence,label=\"Valence of response to Men\")\n",
    "sns.distplot(F_Valence,label=\"Valence of response to Women\")\n",
    "plt.legend()\n",
    "plt.show() \n",
    "\n",
    "#The null hypothesis cannot be rejected: it appears that the negative/positive reponse to men or women is very similar."
   ]
  },
  {
   "cell_type": "code",
   "execution_count": 141,
   "metadata": {},
   "outputs": [
    {
     "name": "stdout",
     "output_type": "stream",
     "text": [
      "127 116\n"
     ]
    }
   ],
   "source": [
    "abuse_flag=[]\n",
    "for comment in Resampled_df.Cleaned:\n",
    "    if 'abusive' in comment: abuse_flag.append(1)\n",
    "    elif 'abuse' in comment: abuse_flag.append(1)\n",
    "    elif 'abuser' in comment: abuse_flag.append(1)\n",
    "    elif 'abused' in comment: abuse_flag.append(1)\n",
    "    elif 'abusing' in comment: abuse_flag.append(1)\n",
    "    else: abuse_flag.append(0)\n",
    "        \n",
    "cheat_flag=[]\n",
    "for comment in Resampled_df.Cleaned:\n",
    "    if 'cheat' in comment: cheat_flag.append(1)\n",
    "    elif 'cheater' in comment: cheat_flag.append(1)\n",
    "    elif 'cheating' in comment: cheat_flag.append(1)\n",
    "    elif 'cheated' in comment: cheat_flag.append(1)\n",
    "    elif 'cheats' in comment: cheat_flag.append(1)\n",
    "    else: cheat_flag.append(0)\n",
    "print(sum(abuse_flag),sum(cheat_flag))"
   ]
  },
  {
   "cell_type": "code",
   "execution_count": 151,
   "metadata": {},
   "outputs": [
    {
     "data": {
      "text/html": [
       "<div>\n",
       "<style scoped>\n",
       "    .dataframe tbody tr th:only-of-type {\n",
       "        vertical-align: middle;\n",
       "    }\n",
       "\n",
       "    .dataframe tbody tr th {\n",
       "        vertical-align: top;\n",
       "    }\n",
       "\n",
       "    .dataframe thead th {\n",
       "        text-align: right;\n",
       "    }\n",
       "</style>\n",
       "<table border=\"1\" class=\"dataframe\">\n",
       "  <thead>\n",
       "    <tr style=\"text-align: right;\">\n",
       "      <th></th>\n",
       "      <th>Code</th>\n",
       "      <th>Response</th>\n",
       "      <th>Gender</th>\n",
       "      <th>Length</th>\n",
       "      <th>Cleaned</th>\n",
       "      <th>cheat</th>\n",
       "      <th>abuse</th>\n",
       "      <th>flagsum</th>\n",
       "      <th>Valence</th>\n",
       "    </tr>\n",
       "  </thead>\n",
       "  <tbody>\n",
       "    <tr>\n",
       "      <th>4055</th>\n",
       "      <td>95st2n</td>\n",
       "      <td>Now this is the kind of update that I love to ...</td>\n",
       "      <td>F</td>\n",
       "      <td>82</td>\n",
       "      <td>[kind, update, love, read, strong, woman, leav...</td>\n",
       "      <td>0</td>\n",
       "      <td>1</td>\n",
       "      <td>1</td>\n",
       "      <td>0.8977</td>\n",
       "    </tr>\n",
       "    <tr>\n",
       "      <th>7049</th>\n",
       "      <td>4yedw5</td>\n",
       "      <td>You are such a strong and amazing young lady. ...</td>\n",
       "      <td>F</td>\n",
       "      <td>59</td>\n",
       "      <td>[strong, amazing, young, lady, wish, 18, year,...</td>\n",
       "      <td>0</td>\n",
       "      <td>1</td>\n",
       "      <td>1</td>\n",
       "      <td>0.9590</td>\n",
       "    </tr>\n",
       "    <tr>\n",
       "      <th>1368</th>\n",
       "      <td>fegt59</td>\n",
       "      <td>NTA. You were abused, and they don't want to a...</td>\n",
       "      <td>F</td>\n",
       "      <td>50</td>\n",
       "      <td>[nta, abused, want, acknowledge, son, abused, ...</td>\n",
       "      <td>0</td>\n",
       "      <td>1</td>\n",
       "      <td>1</td>\n",
       "      <td>-0.8699</td>\n",
       "    </tr>\n",
       "    <tr>\n",
       "      <th>5878</th>\n",
       "      <td>cyms4r</td>\n",
       "      <td>&gt;I’m not sure where to go from here or what to...</td>\n",
       "      <td>F</td>\n",
       "      <td>182</td>\n",
       "      <td>[sure, go, say, nothing, right, sulking, sniff...</td>\n",
       "      <td>0</td>\n",
       "      <td>1</td>\n",
       "      <td>1</td>\n",
       "      <td>-0.9681</td>\n",
       "    </tr>\n",
       "    <tr>\n",
       "      <th>6942</th>\n",
       "      <td>4jwqj0</td>\n",
       "      <td>25 and 33?  That's not unreasonable, by the fo...</td>\n",
       "      <td>F</td>\n",
       "      <td>165</td>\n",
       "      <td>[25, 33, unreasonable, formula, lower, range, ...</td>\n",
       "      <td>1</td>\n",
       "      <td>0</td>\n",
       "      <td>1</td>\n",
       "      <td>0.9618</td>\n",
       "    </tr>\n",
       "  </tbody>\n",
       "</table>\n",
       "</div>"
      ],
      "text/plain": [
       "        Code                                           Response Gender  \\\n",
       "4055  95st2n  Now this is the kind of update that I love to ...      F   \n",
       "7049  4yedw5  You are such a strong and amazing young lady. ...      F   \n",
       "1368  fegt59  NTA. You were abused, and they don't want to a...      F   \n",
       "5878  cyms4r  >I’m not sure where to go from here or what to...      F   \n",
       "6942  4jwqj0  25 and 33?  That's not unreasonable, by the fo...      F   \n",
       "\n",
       "      Length                                            Cleaned  cheat  abuse  \\\n",
       "4055      82  [kind, update, love, read, strong, woman, leav...      0      1   \n",
       "7049      59  [strong, amazing, young, lady, wish, 18, year,...      0      1   \n",
       "1368      50  [nta, abused, want, acknowledge, son, abused, ...      0      1   \n",
       "5878     182  [sure, go, say, nothing, right, sulking, sniff...      0      1   \n",
       "6942     165  [25, 33, unreasonable, formula, lower, range, ...      1      0   \n",
       "\n",
       "      flagsum  Valence  \n",
       "4055        1   0.8977  \n",
       "7049        1   0.9590  \n",
       "1368        1  -0.8699  \n",
       "5878        1  -0.9681  \n",
       "6942        1   0.9618  "
      ]
     },
     "execution_count": 151,
     "metadata": {},
     "output_type": "execute_result"
    }
   ],
   "source": [
    "Resampled_df['cheat']=cheat_flag\n",
    "Resampled_df['abuse']=abuse_flag\n",
    "Resampled_df['flagsum']=Resampled_df['cheat']+Resampled_df['abuse']\n",
    "\n",
    "Flag_df=Resampled_df[Resampled_df.flagsum==1]\n",
    "Flag_df.head()"
   ]
  },
  {
   "cell_type": "code",
   "execution_count": 155,
   "metadata": {},
   "outputs": [
    {
     "name": "stderr",
     "output_type": "stream",
     "text": [
      "C:\\Users\\dkond\\Anaconda3\\lib\\site-packages\\scipy\\stats\\stats.py:1713: FutureWarning: Using a non-tuple sequence for multidimensional indexing is deprecated; use `arr[tuple(seq)]` instead of `arr[seq]`. In the future this will be interpreted as an array index, `arr[np.array(seq)]`, which will result either in an error or a different result.\n",
      "  return np.add.reduce(sorted[indexer] * weights, axis=axis) / sumval\n",
      "C:\\Users\\dkond\\Anaconda3\\lib\\site-packages\\matplotlib\\axes\\_axes.py:6462: UserWarning: The 'normed' kwarg is deprecated, and has been replaced by the 'density' kwarg.\n",
      "  warnings.warn(\"The 'normed' kwarg is deprecated, and has been \"\n",
      "C:\\Users\\dkond\\Anaconda3\\lib\\site-packages\\matplotlib\\axes\\_axes.py:6462: UserWarning: The 'normed' kwarg is deprecated, and has been replaced by the 'density' kwarg.\n",
      "  warnings.warn(\"The 'normed' kwarg is deprecated, and has been \"\n",
      "C:\\Users\\dkond\\Anaconda3\\lib\\site-packages\\matplotlib\\axes\\_axes.py:6462: UserWarning: The 'normed' kwarg is deprecated, and has been replaced by the 'density' kwarg.\n",
      "  warnings.warn(\"The 'normed' kwarg is deprecated, and has been \"\n",
      "C:\\Users\\dkond\\Anaconda3\\lib\\site-packages\\matplotlib\\axes\\_axes.py:6462: UserWarning: The 'normed' kwarg is deprecated, and has been replaced by the 'density' kwarg.\n",
      "  warnings.warn(\"The 'normed' kwarg is deprecated, and has been \"\n"
     ]
    },
    {
     "data": {
      "image/png": "[encoded data removed]",
      "text/plain": [
       "<Figure size 720x720 with 1 Axes>"
      ]
     },
     "metadata": {},
     "output_type": "display_data"
    }
   ],
   "source": [
    "plt.figure(figsize=(10,10))\n",
    "for gender in ['M','F']:\n",
    "    for cheat_ in [0,1]:\n",
    "        if cheat_==0: incident=\"Abuse\"\n",
    "        else: incident=\"Cheating\"\n",
    "        label=f\"{gender} Gender that mentioned {incident}\"\n",
    "        sns.distplot(Flag_df[(Flag_df.Gender==gender) & (Flag_df.cheat==cheat_)].Valence,label=label)\n",
    "plt.legend()\n",
    "plt.show()"
   ]
  },
  {
   "cell_type": "code",
   "execution_count": 158,
   "metadata": {},
   "outputs": [
    {
     "name": "stdout",
     "output_type": "stream",
     "text": [
      "Ttest_indResult(statistic=-1.1193049501591954, pvalue=0.26417257411908995)\n"
     ]
    }
   ],
   "source": [
    "print(st.ttest_ind(Flag_df[Flag_df.cheat==1].Valence,Flag_df[Flag_df.abuse==1].Valence))\n",
    "\n",
    "#It does not appear that Redditors respond differently to instances of abuse or cheating\n",
    "#It is well known that their responses to everything are \"break up\" or \"red flag.\"\n",
    "\n",
    "#However, women mentioning cheating appears to get much more neutral responses than anything else,\n",
    "#While women mentioning abuse gets far more positive responses."
   ]
  },
  {
   "cell_type": "code",
   "execution_count": 165,
   "metadata": {},
   "outputs": [
    {
     "name": "stdout",
     "output_type": "stream",
     "text": [
      "cheating abuse\n",
      "('cheating', 'like')\n",
      "('would', 'would')\n",
      "('like', 'abusive')\n",
      "('relationship', 'get')\n",
      "('get', 'abuse')\n",
      "('someone', 'relationship')\n",
      "('years', 'think')\n",
      "('cheated', 'really')\n",
      "('time', 'people')\n",
      "('know', 'know')\n",
      "('going', 'family')\n",
      "('people', 'going')\n",
      "('good', 'even')\n",
      "('think', 'time')\n",
      "('life', 'way')\n",
      "('said', 'could')\n",
      "('really', 'need')\n",
      "('friends', \"'ve\")\n",
      "('got', 'kids')\n",
      "('things', 'help')\n"
     ]
    }
   ],
   "source": [
    "Text_cheat=[]\n",
    "Text_abuse=[]\n",
    "\n",
    "for idx in Resampled_df.index:\n",
    "    if Resampled_df['cheat'][idx]==1: Text_cheat+=Resampled_df['Cleaned'][idx]\n",
    "    elif Resampled_df['abuse'][idx]==1: Text_abuse+=Resampled_df['Cleaned'][idx]\n",
    "    \n",
    "FreqDist_cheat=FreqDist(Text_cheat)\n",
    "FreqDist_abuse=FreqDist(Text_abuse)\n",
    "\n",
    "print(\"cheating\",\"abuse\")\n",
    "for pair in zip([x[0] for x in FreqDist_cheat.most_common(20)],[x[0] for x in FreqDist_abuse.most_common(20)]):\n",
    "    print(pair) #Showing top 20 most common response words by issue"
   ]
  }
 ],
 "metadata": {
  "kernelspec": {
   "display_name": "Python 3",
   "language": "python",
   "name": "python3"
  },
  "language_info": {
   "codemirror_mode": {
    "name": "ipython",
    "version": 3
   },
   "file_extension": ".py",
   "mimetype": "text/x-python",
   "name": "python",
   "nbconvert_exporter": "python",
   "pygments_lexer": "ipython3",
   "version": "3.6.5"
  }
 },
 "nbformat": 4,
 "nbformat_minor": 2
}
